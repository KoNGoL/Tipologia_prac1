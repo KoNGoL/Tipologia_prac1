{
 "cells": [
  {
   "cell_type": "markdown",
   "metadata": {
    "id": "zrSsvVFdVaSm"
   },
   "source": [
    "<div style=\"width: 100%; clear: both;\">\n",
    "<div style=\"float: left; width: 50%;\">\n",
    "<img src=\"http://www.uoc.edu/portal/_resources/common/imatges/marca_UOC/UOC_Masterbrand.jpg\", align=\"left\">\n",
    "</div>\n",
    "<div style=\"float: right; width: 50%;\">\n",
    "<p style=\"margin: 0; padding-top: 22px; text-align:right;\">Tipología y ciclo de la vida de los datos</p>\n",
    "<p style=\"margin: 0; text-align:right;\">Máster universitario en Ciencia de datos (<i>Data science</i>)</p>\n",
    "<p style=\"margin: 0; text-align:right; padding-button: 100px;\">Estudios de Informática, Multimedia y Telecomunicación</p>\n",
    "</div>\n",
    "</div>\n",
    "<div style=\"width:100%;\">&nbsp;</div>\n",
    "\n",
    "# Practica 2: Limpieza y validación de los datos\n",
    "Autores: \n",
    "*   Adrián García Rodriguez\n",
    "*   Tomás Jesús Luna López\n",
    "\n"
   ]
  },
  {
   "cell_type": "markdown",
   "metadata": {
    "id": "L7y2Lb6zTYY_"
   },
   "source": [
    "#1. Descripción del proyecto\n",
    "\n",
    "En los últimos años hemos visto gestas deportivas que podían parecer imprevisibles, cómo por ejemplo la consecución del título de la Premier Ligue por parte del Leicester C.F., o el título de la NBA de los Toronto Raptors, un equipo que no hace tanto era el peor de su división.\n",
    "\n",
    "Además, en los últimos tiempos han proliferado las casas de apuestas, y aunque no nos posicionamos a favor de las apuestas y sabemos el gran problema que supone la ludopatía, ¿seríamos capaces de predecir los resultados mejor que las casas de apuestas y ganarles en su propio juego?\n",
    "\n",
    "Supongamos que queremos ser capaces de ajustar un modelo para predecir resultados deportivos, y si el modelo es lo suficientemente preciso, realizar apuestas deportivas en función de las recomendaciones del sistema. Aunque para esto podríamos elegir muchas disciplinas deportivas como el baloncesto o el tenis, para nuestro caso hemos elegido el futbol, concretamente La Liga española.\n",
    "\n",
    "Para ello, suponemos que los jugadores disponibles de cada equipo, así como su desempeño a lo largo de la temporada, pueden ayudarnos en esta tarea. Por ejemplo, para dos equipos de calidad similar, si un equipo tiene disponibles jugadores que han estado jugando muy bien y el otro equipo tiene jugadores con mala racha de partidos, el modelo debería predecir que ganará el primero.\n",
    "\n",
    " El objetivo final (no se incluye en esta práctica) sería tener un resultado estimado para cada partido (victoria local, empate, o derrota local), con una probabilidad para cada resultado. Posteriormente compararíamos nuestras probabilidades con las cuotas ofertadas por las casas de apuestas, y en caso de que en los testeos el modelo hubiese resultado robusto, apostaríamos en las apuestas que tuvieran más esperanza matemática.\n",
    "\n",
    "# 2 Descripción del dataset\n",
    "El segundo dataset muestra el detalle de cada partido disputado por los diferentes jugadores que han participado en la actual edición de LaLiga. Este dataset está dividido en siete secciones.\n",
    "\n",
    "*  Datos del partido. Fecha en la que se disputo el partido, día de la semana, si el partido se jugo en casa o como visitante, el resultado, equipo rival, minutos disputados y la/s posición/es que ha jugado dicho jugador en el encuentro.\n",
    "*  Datos de rendimiento. Muestra las estadísticas generales del partido como son, los goles anotados, asistencias, penaltis, disparos, disparos a puerta, tarjetas recibidas, toques al balón, número de veces que acudió a la presión, entradas e intercepciones. \n",
    "*  Expectativa. Datos que muestras los goles y asistencias que se esperan del jugador en el partido teniendo en cuenta los datos anteriores.\n",
    "*  Acciones. Datos que representan la cantidad de acciones de peligro que generó el jugador en dicho encuentro.\n",
    "*  Pases. Muestra los datos de la cantidad de pases realizados, el porcentaje de pases completados, la cantidad de pases progresiones y la cantidad de intercepciones realizadas.\n",
    "*  Transportes. Estos datos hacen referencia a la cantidad de veces que el jugador ha realizado conducciones y cuantas de ellas han sido en zona peligrosa.\n",
    "*  Dribles. Por último, tenemos los datos que hacen referencia a la cantidad de intento de regates realizados por el jugador y en cuantos de ellos ha salido victorioso.\n"
   ]
  },
  {
   "cell_type": "markdown",
   "metadata": {
    "id": "HEenpPJrK-AV"
   },
   "source": [
    "## 2.1. Carga del conjunto de datos"
   ]
  },
  {
   "cell_type": "markdown",
   "metadata": {},
   "source": [
    "Ejecutamos pycodestyle_magic para cumplir la convención pep8 "
   ]
  },
  {
   "cell_type": "code",
   "execution_count": 2,
   "metadata": {},
   "outputs": [
    {
     "name": "stdout",
     "output_type": "stream",
     "text": [
      "Requirement already satisfied: pycodestyle in c:\\users\\tomas\\anaconda3\\lib\\site-packages (2.7.0)\n",
      "Collecting pycodestyle_magic\n",
      "  Using cached pycodestyle_magic-0.5-py2.py3-none-any.whl (9.5 kB)\n",
      "Requirement already satisfied: flake8 in c:\\users\\tomas\\anaconda3\\lib\\site-packages (3.9.2)\n",
      "Requirement already satisfied: mccabe<0.7.0,>=0.6.0 in c:\\users\\tomas\\anaconda3\\lib\\site-packages (from flake8) (0.6.1)\n",
      "Requirement already satisfied: pyflakes<2.4.0,>=2.3.0 in c:\\users\\tomas\\anaconda3\\lib\\site-packages (from flake8) (2.3.1)\n",
      "Installing collected packages: pycodestyle-magic\n",
      "Successfully installed pycodestyle-magic-0.5\n",
      "Note: you may need to restart the kernel to use updated packages.\n"
     ]
    }
   ],
   "source": [
    "pip install pycodestyle pycodestyle_magic flake8"
   ]
  },
  {
   "cell_type": "code",
   "execution_count": 1,
   "metadata": {},
   "outputs": [],
   "source": [
    "%load_ext pycodestyle_magic"
   ]
  },
  {
   "cell_type": "code",
   "execution_count": 2,
   "metadata": {},
   "outputs": [],
   "source": [
    "%pycodestyle_on"
   ]
  },
  {
   "cell_type": "code",
   "execution_count": 4,
   "metadata": {
    "id": "XypPk1bwKDmP"
   },
   "outputs": [],
   "source": [
    "# imports\n",
    "import numpy as np\n",
    "import seaborn as sns\n",
    "import matplotlib.pyplot as plt\n",
    "import pandas as pd\n",
    "%matplotlib inline\n",
    "import os"
   ]
  },
  {
   "cell_type": "code",
   "execution_count": 14,
   "metadata": {
    "colab": {
     "base_uri": "https://localhost:8080/"
    },
    "id": "6GdX-8q7GAN0",
    "outputId": "f5f803ed-005b-4c80-e879-a3e91dc31480"
   },
   "outputs": [
    {
     "ename": "ModuleNotFoundError",
     "evalue": "No module named 'google'",
     "output_type": "error",
     "traceback": [
      "\u001b[1;31m---------------------------------------------------------------------------\u001b[0m",
      "\u001b[1;31mModuleNotFoundError\u001b[0m                       Traceback (most recent call last)",
      "\u001b[1;32m~\\AppData\\Local\\Temp/ipykernel_11880/1408506528.py\u001b[0m in \u001b[0;36m<module>\u001b[1;34m\u001b[0m\n\u001b[1;32m----> 1\u001b[1;33m \u001b[1;32mfrom\u001b[0m \u001b[0mgoogle\u001b[0m\u001b[1;33m.\u001b[0m\u001b[0mcolab\u001b[0m \u001b[1;32mimport\u001b[0m \u001b[0mdrive\u001b[0m\u001b[1;33m\u001b[0m\u001b[1;33m\u001b[0m\u001b[0m\n\u001b[0m\u001b[0;32m      2\u001b[0m \u001b[0mdrive\u001b[0m\u001b[1;33m.\u001b[0m\u001b[0mmount\u001b[0m\u001b[1;33m(\u001b[0m\u001b[1;34m'/content/drive'\u001b[0m\u001b[1;33m)\u001b[0m\u001b[1;33m\u001b[0m\u001b[1;33m\u001b[0m\u001b[0m\n",
      "\u001b[1;31mModuleNotFoundError\u001b[0m: No module named 'google'"
     ]
    }
   ],
   "source": [
    "from google.colab import drive\n",
    "drive.mount('/content/drive')"
   ]
  },
  {
   "cell_type": "code",
   "execution_count": 7,
   "metadata": {},
   "outputs": [],
   "source": [
    "import os\n",
    "work_dir = os.path.abspath(os.getcwd())"
   ]
  },
  {
   "cell_type": "code",
   "execution_count": 12,
   "metadata": {
    "colab": {
     "base_uri": "https://localhost:8080/",
     "height": 470
    },
    "id": "mOnSXLnRKzje",
    "outputId": "b3358b44-5a73-4b56-ac4e-e86ff8bc3d78"
   },
   "outputs": [
    {
     "data": {
      "text/html": [
       "<div>\n",
       "<style scoped>\n",
       "    .dataframe tbody tr th:only-of-type {\n",
       "        vertical-align: middle;\n",
       "    }\n",
       "\n",
       "    .dataframe tbody tr th {\n",
       "        vertical-align: top;\n",
       "    }\n",
       "\n",
       "    .dataframe thead th {\n",
       "        text-align: right;\n",
       "    }\n",
       "</style>\n",
       "<table border=\"1\" class=\"dataframe\">\n",
       "  <thead>\n",
       "    <tr style=\"text-align: right;\">\n",
       "      <th></th>\n",
       "      <th>equipo</th>\n",
       "      <th>jugador</th>\n",
       "      <th>date</th>\n",
       "      <th>dayofweek</th>\n",
       "      <th>comp</th>\n",
       "      <th>round</th>\n",
       "      <th>venue</th>\n",
       "      <th>result</th>\n",
       "      <th>squad</th>\n",
       "      <th>opponent</th>\n",
       "      <th>...</th>\n",
       "      <th>passes_completed</th>\n",
       "      <th>passes</th>\n",
       "      <th>passes_pct</th>\n",
       "      <th>progressive_passes</th>\n",
       "      <th>carries</th>\n",
       "      <th>progressive_carries</th>\n",
       "      <th>dribbles_completed</th>\n",
       "      <th>dribbles</th>\n",
       "      <th>match_report</th>\n",
       "      <th>Unnamed: 40</th>\n",
       "    </tr>\n",
       "  </thead>\n",
       "  <tbody>\n",
       "    <tr>\n",
       "      <th>0</th>\n",
       "      <td>Alavés</td>\n",
       "      <td>Luis Rioja</td>\n",
       "      <td>2021-08-14</td>\n",
       "      <td>Sáb</td>\n",
       "      <td>La Liga</td>\n",
       "      <td>Semana 1 de partido</td>\n",
       "      <td>Local</td>\n",
       "      <td>D 1–4</td>\n",
       "      <td>Alavés</td>\n",
       "      <td>Real Madrid</td>\n",
       "      <td>...</td>\n",
       "      <td>12.0</td>\n",
       "      <td>16.0</td>\n",
       "      <td>75.0</td>\n",
       "      <td>0.0</td>\n",
       "      <td>20.0</td>\n",
       "      <td>4.0</td>\n",
       "      <td>1.0</td>\n",
       "      <td>1.0</td>\n",
       "      <td>Informe del partido</td>\n",
       "      <td>NaN</td>\n",
       "    </tr>\n",
       "    <tr>\n",
       "      <th>1</th>\n",
       "      <td>Alavés</td>\n",
       "      <td>Luis Rioja</td>\n",
       "      <td>2021-08-21</td>\n",
       "      <td>Sáb</td>\n",
       "      <td>La Liga</td>\n",
       "      <td>Semana 2 de partido</td>\n",
       "      <td>Local</td>\n",
       "      <td>D 0–1</td>\n",
       "      <td>Alavés</td>\n",
       "      <td>Mallorca</td>\n",
       "      <td>...</td>\n",
       "      <td>12.0</td>\n",
       "      <td>25.0</td>\n",
       "      <td>48.0</td>\n",
       "      <td>0.0</td>\n",
       "      <td>27.0</td>\n",
       "      <td>8.0</td>\n",
       "      <td>2.0</td>\n",
       "      <td>3.0</td>\n",
       "      <td>Informe del partido</td>\n",
       "      <td>NaN</td>\n",
       "    </tr>\n",
       "    <tr>\n",
       "      <th>2</th>\n",
       "      <td>Alavés</td>\n",
       "      <td>Luis Rioja</td>\n",
       "      <td>2021-08-27</td>\n",
       "      <td>Vie</td>\n",
       "      <td>La Liga</td>\n",
       "      <td>Semana 3 de partido</td>\n",
       "      <td>Visitante</td>\n",
       "      <td>D 0–3</td>\n",
       "      <td>Alavés</td>\n",
       "      <td>Valencia</td>\n",
       "      <td>...</td>\n",
       "      <td>15.0</td>\n",
       "      <td>22.0</td>\n",
       "      <td>68.2</td>\n",
       "      <td>2.0</td>\n",
       "      <td>22.0</td>\n",
       "      <td>4.0</td>\n",
       "      <td>2.0</td>\n",
       "      <td>4.0</td>\n",
       "      <td>Informe del partido</td>\n",
       "      <td>NaN</td>\n",
       "    </tr>\n",
       "    <tr>\n",
       "      <th>3</th>\n",
       "      <td>Alavés</td>\n",
       "      <td>Luis Rioja</td>\n",
       "      <td>2021-09-18</td>\n",
       "      <td>Sáb</td>\n",
       "      <td>La Liga</td>\n",
       "      <td>Semana 5 de partido</td>\n",
       "      <td>Local</td>\n",
       "      <td>D 0–2</td>\n",
       "      <td>Alavés</td>\n",
       "      <td>Osasuna</td>\n",
       "      <td>...</td>\n",
       "      <td>19.0</td>\n",
       "      <td>37.0</td>\n",
       "      <td>51.4</td>\n",
       "      <td>1.0</td>\n",
       "      <td>36.0</td>\n",
       "      <td>3.0</td>\n",
       "      <td>2.0</td>\n",
       "      <td>6.0</td>\n",
       "      <td>Informe del partido</td>\n",
       "      <td>NaN</td>\n",
       "    </tr>\n",
       "    <tr>\n",
       "      <th>4</th>\n",
       "      <td>Alavés</td>\n",
       "      <td>Luis Rioja</td>\n",
       "      <td>2021-09-22</td>\n",
       "      <td>Mié</td>\n",
       "      <td>La Liga</td>\n",
       "      <td>Semana 6 de partido</td>\n",
       "      <td>Visitante</td>\n",
       "      <td>D 0–1</td>\n",
       "      <td>Alavés</td>\n",
       "      <td>Espanyol</td>\n",
       "      <td>...</td>\n",
       "      <td>30.0</td>\n",
       "      <td>42.0</td>\n",
       "      <td>71.4</td>\n",
       "      <td>1.0</td>\n",
       "      <td>41.0</td>\n",
       "      <td>12.0</td>\n",
       "      <td>3.0</td>\n",
       "      <td>4.0</td>\n",
       "      <td>Informe del partido</td>\n",
       "      <td>NaN</td>\n",
       "    </tr>\n",
       "  </tbody>\n",
       "</table>\n",
       "<p>5 rows × 41 columns</p>\n",
       "</div>"
      ],
      "text/plain": [
       "   equipo     jugador        date dayofweek     comp                round  \\\n",
       "0  Alavés  Luis Rioja  2021-08-14       Sáb  La Liga  Semana 1 de partido   \n",
       "1  Alavés  Luis Rioja  2021-08-21       Sáb  La Liga  Semana 2 de partido   \n",
       "2  Alavés  Luis Rioja  2021-08-27       Vie  La Liga  Semana 3 de partido   \n",
       "3  Alavés  Luis Rioja  2021-09-18       Sáb  La Liga  Semana 5 de partido   \n",
       "4  Alavés  Luis Rioja  2021-09-22       Mié  La Liga  Semana 6 de partido   \n",
       "\n",
       "       venue result   squad     opponent  ... passes_completed passes  \\\n",
       "0      Local  D 1–4  Alavés  Real Madrid  ...             12.0   16.0   \n",
       "1      Local  D 0–1  Alavés     Mallorca  ...             12.0   25.0   \n",
       "2  Visitante  D 0–3  Alavés     Valencia  ...             15.0   22.0   \n",
       "3      Local  D 0–2  Alavés      Osasuna  ...             19.0   37.0   \n",
       "4  Visitante  D 0–1  Alavés     Espanyol  ...             30.0   42.0   \n",
       "\n",
       "   passes_pct  progressive_passes  carries  progressive_carries  \\\n",
       "0        75.0                 0.0     20.0                  4.0   \n",
       "1        48.0                 0.0     27.0                  8.0   \n",
       "2        68.2                 2.0     22.0                  4.0   \n",
       "3        51.4                 1.0     36.0                  3.0   \n",
       "4        71.4                 1.0     41.0                 12.0   \n",
       "\n",
       "   dribbles_completed  dribbles         match_report  Unnamed: 40  \n",
       "0                 1.0       1.0  Informe del partido          NaN  \n",
       "1                 2.0       3.0  Informe del partido          NaN  \n",
       "2                 2.0       4.0  Informe del partido          NaN  \n",
       "3                 2.0       6.0  Informe del partido          NaN  \n",
       "4                 3.0       4.0  Informe del partido          NaN  \n",
       "\n",
       "[5 rows x 41 columns]"
      ]
     },
     "execution_count": 12,
     "metadata": {},
     "output_type": "execute_result"
    }
   ],
   "source": [
    "data = pd.read_csv(\n",
    "    work_dir + \"/Documents/GitHub/Tipologia_prac1/players_info.csv\",\n",
    "    sep=\";\", quotechar=\"'\")\n",
    "data.head()"
   ]
  },
  {
   "cell_type": "markdown",
   "metadata": {
    "id": "uy_d6QoJPIyl"
   },
   "source": [
    "## 2.3. Exploración del Dataset"
   ]
  },
  {
   "cell_type": "code",
   "execution_count": 13,
   "metadata": {
    "colab": {
     "base_uri": "https://localhost:8080/",
     "height": 585
    },
    "id": "h2L9gVDmPM32",
    "outputId": "915fbdb5-44b3-4829-cc58-24cdf3485efe"
   },
   "outputs": [
    {
     "name": "stdout",
     "output_type": "stream",
     "text": [
      "Disponemos de 41 variables con un total de 20460 muestras\n",
      "Los nombres de las variables son: Index(['equipo', 'jugador', 'date', 'dayofweek', 'comp', 'round', 'venue',\n",
      "       'result', 'squad', 'opponent', 'game_started', 'position', 'minutes',\n",
      "       'goals', 'assists', 'pens_made', 'pens_att', 'shots_total',\n",
      "       'shots_on_target', 'cards_yellow', 'cards_red', 'touches', 'pressures',\n",
      "       'tackles', 'interceptions', 'blocks', 'xg', 'npxg', 'xa', 'sca', 'gca',\n",
      "       'passes_completed', 'passes', 'passes_pct', 'progressive_passes',\n",
      "       'carries', 'progressive_carries', 'dribbles_completed', 'dribbles',\n",
      "       'match_report', 'Unnamed: 40'],\n",
      "      dtype='object')\n"
     ]
    },
    {
     "data": {
      "text/html": [
       "<div>\n",
       "<style scoped>\n",
       "    .dataframe tbody tr th:only-of-type {\n",
       "        vertical-align: middle;\n",
       "    }\n",
       "\n",
       "    .dataframe tbody tr th {\n",
       "        vertical-align: top;\n",
       "    }\n",
       "\n",
       "    .dataframe thead th {\n",
       "        text-align: right;\n",
       "    }\n",
       "</style>\n",
       "<table border=\"1\" class=\"dataframe\">\n",
       "  <thead>\n",
       "    <tr style=\"text-align: right;\">\n",
       "      <th></th>\n",
       "      <th>minutes</th>\n",
       "      <th>goals</th>\n",
       "      <th>assists</th>\n",
       "      <th>pens_made</th>\n",
       "      <th>pens_att</th>\n",
       "      <th>shots_total</th>\n",
       "      <th>shots_on_target</th>\n",
       "      <th>cards_yellow</th>\n",
       "      <th>cards_red</th>\n",
       "      <th>touches</th>\n",
       "      <th>...</th>\n",
       "      <th>gca</th>\n",
       "      <th>passes_completed</th>\n",
       "      <th>passes</th>\n",
       "      <th>passes_pct</th>\n",
       "      <th>progressive_passes</th>\n",
       "      <th>carries</th>\n",
       "      <th>progressive_carries</th>\n",
       "      <th>dribbles_completed</th>\n",
       "      <th>dribbles</th>\n",
       "      <th>Unnamed: 40</th>\n",
       "    </tr>\n",
       "  </thead>\n",
       "  <tbody>\n",
       "    <tr>\n",
       "      <th>count</th>\n",
       "      <td>13639.000000</td>\n",
       "      <td>13661.000000</td>\n",
       "      <td>13627.000000</td>\n",
       "      <td>13661.000000</td>\n",
       "      <td>13661.000000</td>\n",
       "      <td>13320.000000</td>\n",
       "      <td>13320.000000</td>\n",
       "      <td>13661.000000</td>\n",
       "      <td>13661.000000</td>\n",
       "      <td>10415.000000</td>\n",
       "      <td>...</td>\n",
       "      <td>10415.000000</td>\n",
       "      <td>10415.000000</td>\n",
       "      <td>10415.000000</td>\n",
       "      <td>10313.000000</td>\n",
       "      <td>10415.000000</td>\n",
       "      <td>10415.000000</td>\n",
       "      <td>10415.000000</td>\n",
       "      <td>10415.000000</td>\n",
       "      <td>10415.000000</td>\n",
       "      <td>0.0</td>\n",
       "    </tr>\n",
       "    <tr>\n",
       "      <th>mean</th>\n",
       "      <td>64.447174</td>\n",
       "      <td>0.090916</td>\n",
       "      <td>0.059661</td>\n",
       "      <td>0.009443</td>\n",
       "      <td>0.012005</td>\n",
       "      <td>0.802703</td>\n",
       "      <td>0.265541</td>\n",
       "      <td>0.155040</td>\n",
       "      <td>0.007906</td>\n",
       "      <td>37.713010</td>\n",
       "      <td>...</td>\n",
       "      <td>0.128757</td>\n",
       "      <td>23.976476</td>\n",
       "      <td>30.346135</td>\n",
       "      <td>75.760070</td>\n",
       "      <td>1.937302</td>\n",
       "      <td>23.419683</td>\n",
       "      <td>2.495727</td>\n",
       "      <td>0.540663</td>\n",
       "      <td>0.998656</td>\n",
       "      <td>NaN</td>\n",
       "    </tr>\n",
       "    <tr>\n",
       "      <th>std</th>\n",
       "      <td>30.928286</td>\n",
       "      <td>0.325703</td>\n",
       "      <td>0.254491</td>\n",
       "      <td>0.101158</td>\n",
       "      <td>0.113519</td>\n",
       "      <td>1.169523</td>\n",
       "      <td>0.597174</td>\n",
       "      <td>0.370946</td>\n",
       "      <td>0.088565</td>\n",
       "      <td>24.038665</td>\n",
       "      <td>...</td>\n",
       "      <td>0.395424</td>\n",
       "      <td>19.079643</td>\n",
       "      <td>21.709858</td>\n",
       "      <td>16.370852</td>\n",
       "      <td>2.301586</td>\n",
       "      <td>17.132737</td>\n",
       "      <td>2.942826</td>\n",
       "      <td>0.970396</td>\n",
       "      <td>1.510922</td>\n",
       "      <td>NaN</td>\n",
       "    </tr>\n",
       "    <tr>\n",
       "      <th>min</th>\n",
       "      <td>1.000000</td>\n",
       "      <td>0.000000</td>\n",
       "      <td>0.000000</td>\n",
       "      <td>0.000000</td>\n",
       "      <td>0.000000</td>\n",
       "      <td>0.000000</td>\n",
       "      <td>0.000000</td>\n",
       "      <td>0.000000</td>\n",
       "      <td>0.000000</td>\n",
       "      <td>0.000000</td>\n",
       "      <td>...</td>\n",
       "      <td>0.000000</td>\n",
       "      <td>0.000000</td>\n",
       "      <td>0.000000</td>\n",
       "      <td>0.000000</td>\n",
       "      <td>0.000000</td>\n",
       "      <td>0.000000</td>\n",
       "      <td>0.000000</td>\n",
       "      <td>0.000000</td>\n",
       "      <td>0.000000</td>\n",
       "      <td>NaN</td>\n",
       "    </tr>\n",
       "    <tr>\n",
       "      <th>25%</th>\n",
       "      <td>35.000000</td>\n",
       "      <td>0.000000</td>\n",
       "      <td>0.000000</td>\n",
       "      <td>0.000000</td>\n",
       "      <td>0.000000</td>\n",
       "      <td>0.000000</td>\n",
       "      <td>0.000000</td>\n",
       "      <td>0.000000</td>\n",
       "      <td>0.000000</td>\n",
       "      <td>18.000000</td>\n",
       "      <td>...</td>\n",
       "      <td>0.000000</td>\n",
       "      <td>9.000000</td>\n",
       "      <td>13.000000</td>\n",
       "      <td>66.700000</td>\n",
       "      <td>0.000000</td>\n",
       "      <td>10.000000</td>\n",
       "      <td>0.000000</td>\n",
       "      <td>0.000000</td>\n",
       "      <td>0.000000</td>\n",
       "      <td>NaN</td>\n",
       "    </tr>\n",
       "    <tr>\n",
       "      <th>50%</th>\n",
       "      <td>79.000000</td>\n",
       "      <td>0.000000</td>\n",
       "      <td>0.000000</td>\n",
       "      <td>0.000000</td>\n",
       "      <td>0.000000</td>\n",
       "      <td>0.000000</td>\n",
       "      <td>0.000000</td>\n",
       "      <td>0.000000</td>\n",
       "      <td>0.000000</td>\n",
       "      <td>36.000000</td>\n",
       "      <td>...</td>\n",
       "      <td>0.000000</td>\n",
       "      <td>20.000000</td>\n",
       "      <td>27.000000</td>\n",
       "      <td>78.300000</td>\n",
       "      <td>1.000000</td>\n",
       "      <td>20.000000</td>\n",
       "      <td>2.000000</td>\n",
       "      <td>0.000000</td>\n",
       "      <td>0.000000</td>\n",
       "      <td>NaN</td>\n",
       "    </tr>\n",
       "    <tr>\n",
       "      <th>75%</th>\n",
       "      <td>90.000000</td>\n",
       "      <td>0.000000</td>\n",
       "      <td>0.000000</td>\n",
       "      <td>0.000000</td>\n",
       "      <td>0.000000</td>\n",
       "      <td>1.000000</td>\n",
       "      <td>0.000000</td>\n",
       "      <td>0.000000</td>\n",
       "      <td>0.000000</td>\n",
       "      <td>53.500000</td>\n",
       "      <td>...</td>\n",
       "      <td>0.000000</td>\n",
       "      <td>34.000000</td>\n",
       "      <td>43.000000</td>\n",
       "      <td>86.700000</td>\n",
       "      <td>3.000000</td>\n",
       "      <td>33.000000</td>\n",
       "      <td>4.000000</td>\n",
       "      <td>1.000000</td>\n",
       "      <td>1.000000</td>\n",
       "      <td>NaN</td>\n",
       "    </tr>\n",
       "    <tr>\n",
       "      <th>max</th>\n",
       "      <td>120.000000</td>\n",
       "      <td>4.000000</td>\n",
       "      <td>2.000000</td>\n",
       "      <td>2.000000</td>\n",
       "      <td>2.000000</td>\n",
       "      <td>10.000000</td>\n",
       "      <td>6.000000</td>\n",
       "      <td>2.000000</td>\n",
       "      <td>1.000000</td>\n",
       "      <td>161.000000</td>\n",
       "      <td>...</td>\n",
       "      <td>4.000000</td>\n",
       "      <td>143.000000</td>\n",
       "      <td>150.000000</td>\n",
       "      <td>100.000000</td>\n",
       "      <td>22.000000</td>\n",
       "      <td>133.000000</td>\n",
       "      <td>32.000000</td>\n",
       "      <td>10.000000</td>\n",
       "      <td>17.000000</td>\n",
       "      <td>NaN</td>\n",
       "    </tr>\n",
       "  </tbody>\n",
       "</table>\n",
       "<p>8 rows × 28 columns</p>\n",
       "</div>"
      ],
      "text/plain": [
       "            minutes         goals       assists     pens_made      pens_att  \\\n",
       "count  13639.000000  13661.000000  13627.000000  13661.000000  13661.000000   \n",
       "mean      64.447174      0.090916      0.059661      0.009443      0.012005   \n",
       "std       30.928286      0.325703      0.254491      0.101158      0.113519   \n",
       "min        1.000000      0.000000      0.000000      0.000000      0.000000   \n",
       "25%       35.000000      0.000000      0.000000      0.000000      0.000000   \n",
       "50%       79.000000      0.000000      0.000000      0.000000      0.000000   \n",
       "75%       90.000000      0.000000      0.000000      0.000000      0.000000   \n",
       "max      120.000000      4.000000      2.000000      2.000000      2.000000   \n",
       "\n",
       "        shots_total  shots_on_target  cards_yellow     cards_red  \\\n",
       "count  13320.000000     13320.000000  13661.000000  13661.000000   \n",
       "mean       0.802703         0.265541      0.155040      0.007906   \n",
       "std        1.169523         0.597174      0.370946      0.088565   \n",
       "min        0.000000         0.000000      0.000000      0.000000   \n",
       "25%        0.000000         0.000000      0.000000      0.000000   \n",
       "50%        0.000000         0.000000      0.000000      0.000000   \n",
       "75%        1.000000         0.000000      0.000000      0.000000   \n",
       "max       10.000000         6.000000      2.000000      1.000000   \n",
       "\n",
       "            touches  ...           gca  passes_completed        passes  \\\n",
       "count  10415.000000  ...  10415.000000      10415.000000  10415.000000   \n",
       "mean      37.713010  ...      0.128757         23.976476     30.346135   \n",
       "std       24.038665  ...      0.395424         19.079643     21.709858   \n",
       "min        0.000000  ...      0.000000          0.000000      0.000000   \n",
       "25%       18.000000  ...      0.000000          9.000000     13.000000   \n",
       "50%       36.000000  ...      0.000000         20.000000     27.000000   \n",
       "75%       53.500000  ...      0.000000         34.000000     43.000000   \n",
       "max      161.000000  ...      4.000000        143.000000    150.000000   \n",
       "\n",
       "         passes_pct  progressive_passes       carries  progressive_carries  \\\n",
       "count  10313.000000        10415.000000  10415.000000         10415.000000   \n",
       "mean      75.760070            1.937302     23.419683             2.495727   \n",
       "std       16.370852            2.301586     17.132737             2.942826   \n",
       "min        0.000000            0.000000      0.000000             0.000000   \n",
       "25%       66.700000            0.000000     10.000000             0.000000   \n",
       "50%       78.300000            1.000000     20.000000             2.000000   \n",
       "75%       86.700000            3.000000     33.000000             4.000000   \n",
       "max      100.000000           22.000000    133.000000            32.000000   \n",
       "\n",
       "       dribbles_completed      dribbles  Unnamed: 40  \n",
       "count        10415.000000  10415.000000          0.0  \n",
       "mean             0.540663      0.998656          NaN  \n",
       "std              0.970396      1.510922          NaN  \n",
       "min              0.000000      0.000000          NaN  \n",
       "25%              0.000000      0.000000          NaN  \n",
       "50%              0.000000      0.000000          NaN  \n",
       "75%              1.000000      1.000000          NaN  \n",
       "max             10.000000     17.000000          NaN  \n",
       "\n",
       "[8 rows x 28 columns]"
      ]
     },
     "execution_count": 13,
     "metadata": {},
     "output_type": "execute_result"
    },
    {
     "name": "stderr",
     "output_type": "stream",
     "text": [
      "1:80: E501 line too long (100 > 79 characters)\n"
     ]
    }
   ],
   "source": [
    "print(\"Disponemos de {} variables con un total de {} muestras\\nLos nombres de las variables son: {}\"\n",
    "      .format(len(data.columns), len(data), data.columns))\n",
    "data.describe()"
   ]
  },
  {
   "cell_type": "markdown",
   "metadata": {
    "id": "8HHM1DSpP1nv"
   },
   "source": [
    "#3. Limpieza de los datos"
   ]
  },
  {
   "cell_type": "markdown",
   "metadata": {
    "id": "G8CXdhMfFuE-"
   },
   "source": [
    "##3.1 Tipos de datos"
   ]
  },
  {
   "cell_type": "code",
   "execution_count": 14,
   "metadata": {
    "colab": {
     "base_uri": "https://localhost:8080/"
    },
    "id": "QoqfXRjtFtm0",
    "outputId": "8be437ec-cbdc-4a80-e8fe-eae362c831bf"
   },
   "outputs": [
    {
     "data": {
      "text/plain": [
       "equipo                  object\n",
       "jugador                 object\n",
       "date                    object\n",
       "dayofweek               object\n",
       "comp                    object\n",
       "round                   object\n",
       "venue                   object\n",
       "result                  object\n",
       "squad                   object\n",
       "opponent                object\n",
       "game_started            object\n",
       "position                object\n",
       "minutes                float64\n",
       "goals                  float64\n",
       "assists                float64\n",
       "pens_made              float64\n",
       "pens_att               float64\n",
       "shots_total            float64\n",
       "shots_on_target        float64\n",
       "cards_yellow           float64\n",
       "cards_red              float64\n",
       "touches                float64\n",
       "pressures              float64\n",
       "tackles                float64\n",
       "interceptions          float64\n",
       "blocks                 float64\n",
       "xg                     float64\n",
       "npxg                   float64\n",
       "xa                     float64\n",
       "sca                    float64\n",
       "gca                    float64\n",
       "passes_completed       float64\n",
       "passes                 float64\n",
       "passes_pct             float64\n",
       "progressive_passes     float64\n",
       "carries                float64\n",
       "progressive_carries    float64\n",
       "dribbles_completed     float64\n",
       "dribbles               float64\n",
       "match_report            object\n",
       "Unnamed: 40            float64\n",
       "dtype: object"
      ]
     },
     "execution_count": 14,
     "metadata": {},
     "output_type": "execute_result"
    }
   ],
   "source": [
    "data.dtypes"
   ]
  },
  {
   "cell_type": "markdown",
   "metadata": {
    "id": "5Dnk8Wq0GMk6"
   },
   "source": [
    "Vemos que varios tipos de datos estan mal seteados, asi que procedemos a modificarlo."
   ]
  },
  {
   "cell_type": "code",
   "execution_count": 15,
   "metadata": {
    "id": "HNFe4m0lGS_0"
   },
   "outputs": [],
   "source": [
    "change_columns = ['date']\n",
    "for col in change_columns:\n",
    "    data[col] = pd.to_datetime(data[col])"
   ]
  },
  {
   "cell_type": "markdown",
   "metadata": {
    "id": "YOJQgyQwP5EC"
   },
   "source": [
    "## 3.2 Valores vácios"
   ]
  },
  {
   "cell_type": "code",
   "execution_count": 16,
   "metadata": {
    "colab": {
     "base_uri": "https://localhost:8080/"
    },
    "id": "T5hFsxxRP_oO",
    "outputId": "7d5e790f-fba6-4654-937e-af0ec866e7e9"
   },
   "outputs": [
    {
     "data": {
      "text/plain": [
       "equipo                     0\n",
       "jugador                    0\n",
       "date                    1455\n",
       "dayofweek               1455\n",
       "comp                    1455\n",
       "round                   1455\n",
       "venue                   1455\n",
       "result                  1455\n",
       "squad                   1455\n",
       "opponent                1455\n",
       "game_started            1455\n",
       "position                7772\n",
       "minutes                 6821\n",
       "goals                   6799\n",
       "assists                 6833\n",
       "pens_made               6799\n",
       "pens_att                6799\n",
       "shots_total             7140\n",
       "shots_on_target         7140\n",
       "cards_yellow            6799\n",
       "cards_red               6799\n",
       "touches                10045\n",
       "pressures              10045\n",
       "tackles                10045\n",
       "interceptions           7140\n",
       "blocks                 10045\n",
       "xg                     10045\n",
       "npxg                   10045\n",
       "xa                     10045\n",
       "sca                    10045\n",
       "gca                    10045\n",
       "passes_completed       10045\n",
       "passes                 10045\n",
       "passes_pct             10147\n",
       "progressive_passes     10045\n",
       "carries                10045\n",
       "progressive_carries    10045\n",
       "dribbles_completed     10045\n",
       "dribbles               10045\n",
       "match_report            1455\n",
       "Unnamed: 40            20460\n",
       "dtype: int64"
      ]
     },
     "execution_count": 16,
     "metadata": {},
     "output_type": "execute_result"
    }
   ],
   "source": [
    "data.isna().sum()"
   ]
  },
  {
   "cell_type": "markdown",
   "metadata": {
    "id": "f4a6AjHgQh1i"
   },
   "source": [
    "Vemos que se ha producido un error al cargar el CSV y se ha generado una columna extra, 'Unname:40', así que procedemos a eliminarla. También eliminamos la columna 'match_report', que es un dato extraido de más.\n"
   ]
  },
  {
   "cell_type": "code",
   "execution_count": 17,
   "metadata": {
    "id": "OawhYDIKQqqr"
   },
   "outputs": [],
   "source": [
    "data = data.drop(['Unnamed: 40', 'match_report'], axis=1)"
   ]
  },
  {
   "cell_type": "markdown",
   "metadata": {
    "id": "ZobKYFBWMFu1"
   },
   "source": [
    "Por otro lado, podemos observar que hay mucho valores vacios en los siguientes campos:\n",
    "\n",
    "\n",
    "*   <b>Date</b>. Estas filas estan compltamente vacías, con lo que procedemos a eliminarlas\n",
    "*   <b>Position</b>. Estos valores corresponden a dos grupos, si el jugador a participado en el encuentro pero en una posicion no soportado en lo datos, mientras que si el jugador no ha disputado ningun minuto, al no haber participado en el encuentro, su posicion está vacía. Para el primer caso, vamos completar el campo con el valor UNK, para indica que es deconocida, mientras que en el segundo caso lo compltaremos con null.\n",
    "*    El resto de valores son de estadisticas que el jugador no ha podido completar por diferentes motivos (poco tiempo de juego, por posicion, ...), estos valores se van a sustituir por 0 para facilitar las estadisticas posteriores.\n",
    "\n"
   ]
  },
  {
   "cell_type": "code",
   "execution_count": 18,
   "metadata": {
    "id": "HTGLNu1tMeZa"
   },
   "outputs": [
    {
     "name": "stderr",
     "output_type": "stream",
     "text": [
      "10:80: E501 line too long (81 > 79 characters)\n",
      "11:80: E501 line too long (89 > 79 characters)\n",
      "12:80: E501 line too long (83 > 79 characters)\n",
      "17:80: E501 line too long (85 > 79 characters)\n",
      "24:80: E501 line too long (91 > 79 characters)\n",
      "27:80: E501 line too long (95 > 79 characters)\n",
      "29:80: E501 line too long (97 > 79 characters)\n",
      "30:80: E501 line too long (95 > 79 characters)\n"
     ]
    }
   ],
   "source": [
    "data.loc[(data['position'].isna()) & ~(data['minutes'].isna()), 'position']\n",
    "# borrado de las filas vacias\n",
    "data = data.drop(data.index[data['date'].isna()])\n",
    "data.loc[data['position'].isna() & ~data['minutes'].isna(), 'position'] = 'UNK'\n",
    "data.loc[data['position'].isna(), 'position'] = None\n",
    "data.loc[data['goals'].isna() & ~data['minutes'].isna(), 'goals'] = 0\n",
    "data.loc[data['assists'].isna() & ~data['minutes'].isna(), 'assists'] = 0\n",
    "data.loc[data['pens_made'].isna() & ~data['minutes'].isna(), 'pens_made'] = 0\n",
    "data.loc[data['pens_att'].isna() & ~data['minutes'].isna(), 'pens_att'] = 0\n",
    "data.loc[data['shots_total'].isna() & ~data['minutes'].isna(), 'shots_total'] = 0\n",
    "data.loc[data['shots_on_target'].isna() & ~data['minutes'].isna(), 'shots_on_target'] = 0\n",
    "data.loc[data['cards_yellow'].isna() & ~data['minutes'].isna(), 'cards_yellow'] = 0\n",
    "data.loc[data['cards_red'].isna() & ~data['minutes'].isna(), 'cards_red'] = 0\n",
    "data.loc[data['touches'].isna() & ~data['minutes'].isna(), 'touches'] = 0\n",
    "data.loc[data['pressures'].isna() & ~data['minutes'].isna(), 'pressures'] = 0\n",
    "data.loc[data['tackles'].isna() & ~data['minutes'].isna(), 'tackles'] = 0\n",
    "data.loc[data['interceptions'].isna() & ~data['minutes'].isna(), 'interceptions'] = 0\n",
    "data.loc[data['blocks'].isna() & ~data['minutes'].isna(), 'blocks'] = 0\n",
    "data.loc[data['xg'].isna() & ~data['minutes'].isna(), 'xg'] = 0\n",
    "data.loc[data['npxg'].isna() & ~data['minutes'].isna(), 'npxg'] = 0\n",
    "data.loc[data['xa'].isna() & ~data['minutes'].isna(), 'xa'] = 0\n",
    "data.loc[data['sca'].isna() & ~data['minutes'].isna(), 'sca'] = 0\n",
    "data.loc[data['gca'].isna() & ~data['minutes'].isna(), 'gca'] = 0\n",
    "data.loc[data['passes_completed'].isna() & ~data['minutes'].isna(), 'passes_completed'] = 0\n",
    "data.loc[data['passes'].isna() & ~data['minutes'].isna(), 'passes'] = 0\n",
    "data.loc[data['passes_pct'].isna() & ~data['minutes'].isna(), 'passes_pct'] = 0\n",
    "data.loc[data['progressive_passes'].isna() & ~data['minutes'].isna(), 'progressive_passes'] = 0\n",
    "data.loc[data['carries'].isna() & ~data['minutes'].isna(), 'carries'] = 0\n",
    "data.loc[data['progressive_carries'].isna() & ~data['minutes'].isna(), 'progressive_carries'] = 0\n",
    "data.loc[data['dribbles_completed'].isna() & ~data['minutes'].isna(), 'dribbles_completed'] = 0\n",
    "data.loc[data['dribbles'].isna() & ~data['minutes'].isna(), 'dribbles'] = 0"
   ]
  },
  {
   "cell_type": "markdown",
   "metadata": {
    "id": "vb_Gfb09P_uj"
   },
   "source": [
    "## 3.3 Valores átipicos\n",
    "En este paso, para todas las variables númericas, vamos a buscar valores átipicos o extremos."
   ]
  },
  {
   "cell_type": "code",
   "execution_count": 19,
   "metadata": {
    "colab": {
     "base_uri": "https://localhost:8080/",
     "height": 1000
    },
    "id": "t92JEA3DQCts",
    "outputId": "7f7ea5cf-b0f9-43b0-dc68-50c35c54483f"
   },
   "outputs": [
    {
     "name": "stderr",
     "output_type": "stream",
     "text": [
      "C:\\Users\\tomas\\AppData\\Local\\Temp\\ipykernel_1340\\1557634887.py:5: RuntimeWarning: More than 20 figures have been opened. Figures created through the pyplot interface (`matplotlib.pyplot.figure`) are retained until explicitly closed and may consume too much memory. (To control this warning, see the rcParam `figure.max_open_warning`).\n",
      "  fig, ax = plt.subplots(1, figsize=(4, 4), sharey=True)\n"
     ]
    },
    {
     "data": {
      "image/png": "[encoded data removed]",
      "text/plain": [
       "<Figure size 288x288 with 1 Axes>"
      ]
     },
     "metadata": {
      "needs_background": "light"
     },
     "output_type": "display_data"
    },
    {
     "data": {
      "image/png": "[encoded data removed]",
      "text/plain": [
       "<Figure size 288x288 with 1 Axes>"
      ]
     },
     "metadata": {
      "needs_background": "light"
     },
     "output_type": "display_data"
    },
    {
     "data": {
      "image/png": "[encoded data removed]",
      "text/plain": [
       "<Figure size 288x288 with 1 Axes>"
      ]
     },
     "metadata": {
      "needs_background": "light"
     },
     "output_type": "display_data"
    },
    {
     "data": {
      "image/png": "[encoded data removed]",
      "text/plain": [
       "<Figure size 288x288 with 1 Axes>"
      ]
     },
     "metadata": {
      "needs_background": "light"
     },
     "output_type": "display_data"
    },
    {
     "data": {
      "image/png": "[encoded data removed]",
      "text/plain": [
       "<Figure size 288x288 with 1 Axes>"
      ]
     },
     "metadata": {
      "needs_background": "light"
     },
     "output_type": "display_data"
    },
    {
     "data": {
      "image/png": "[encoded data removed]",
      "text/plain": [
       "<Figure size 288x288 with 1 Axes>"
      ]
     },
     "metadata": {
      "needs_background": "light"
     },
     "output_type": "display_data"
    },
    {
     "data": {
      "image/png": "[encoded data removed]",
      "text/plain": [
       "<Figure size 288x288 with 1 Axes>"
      ]
     },
     "metadata": {
      "needs_background": "light"
     },
     "output_type": "display_data"
    },
    {
     "data": {
      "image/png": "[encoded data removed]",
      "text/plain": [
       "<Figure size 288x288 with 1 Axes>"
      ]
     },
     "metadata": {
      "needs_background": "light"
     },
     "output_type": "display_data"
    },
    {
     "data": {
      "image/png": "[encoded data removed]",
      "text/plain": [
       "<Figure size 288x288 with 1 Axes>"
      ]
     },
     "metadata": {
      "needs_background": "light"
     },
     "output_type": "display_data"
    },
    {
     "data": {
      "image/png": "[encoded data removed]",
      "text/plain": [
       "<Figure size 288x288 with 1 Axes>"
      ]
     },
     "metadata": {
      "needs_background": "light"
     },
     "output_type": "display_data"
    },
    {
     "data": {
      "image/png": "[encoded data removed]",
      "text/plain": [
       "<Figure size 288x288 with 1 Axes>"
      ]
     },
     "metadata": {
      "needs_background": "light"
     },
     "output_type": "display_data"
    },
    {
     "data": {
      "image/png": "[encoded data removed]",
      "text/plain": [
       "<Figure size 288x288 with 1 Axes>"
      ]
     },
     "metadata": {
      "needs_background": "light"
     },
     "output_type": "display_data"
    },
    {
     "data": {
      "image/png": "[encoded data removed]",
      "text/plain": [
       "<Figure size 288x288 with 1 Axes>"
      ]
     },
     "metadata": {
      "needs_background": "light"
     },
     "output_type": "display_data"
    },
    {
     "data": {
      "image/png": "[encoded data removed]",
      "text/plain": [
       "<Figure size 288x288 with 1 Axes>"
      ]
     },
     "metadata": {
      "needs_background": "light"
     },
     "output_type": "display_data"
    },
    {
     "data": {
      "image/png": "[encoded data removed]",
      "text/plain": [
       "<Figure size 288x288 with 1 Axes>"
      ]
     },
     "metadata": {
      "needs_background": "light"
     },
     "output_type": "display_data"
    },
    {
     "data": {
      "image/png": "[encoded data removed]",
      "text/plain": [
       "<Figure size 288x288 with 1 Axes>"
      ]
     },
     "metadata": {
      "needs_background": "light"
     },
     "output_type": "display_data"
    },
    {
     "data": {
      "image/png": "[encoded data removed]",
      "text/plain": [
       "<Figure size 288x288 with 1 Axes>"
      ]
     },
     "metadata": {
      "needs_background": "light"
     },
     "output_type": "display_data"
    },
    {
     "data": {
      "image/png": "[encoded data removed]",
      "text/plain": [
       "<Figure size 288x288 with 1 Axes>"
      ]
     },
     "metadata": {
      "needs_background": "light"
     },
     "output_type": "display_data"
    },
    {
     "data": {
      "image/png": "[encoded data removed]",
      "text/plain": [
       "<Figure size 288x288 with 1 Axes>"
      ]
     },
     "metadata": {
      "needs_background": "light"
     },
     "output_type": "display_data"
    },
    {
     "data": {
      "image/png": "[encoded data removed]",
      "text/plain": [
       "<Figure size 288x288 with 1 Axes>"
      ]
     },
     "metadata": {
      "needs_background": "light"
     },
     "output_type": "display_data"
    },
    {
     "data": {
      "image/png": "[encoded data removed]",
      "text/plain": [
       "<Figure size 288x288 with 1 Axes>"
      ]
     },
     "metadata": {
      "needs_background": "light"
     },
     "output_type": "display_data"
    },
    {
     "data": {
      "image/png": "[encoded data removed]",
      "text/plain": [
       "<Figure size 288x288 with 1 Axes>"
      ]
     },
     "metadata": {
      "needs_background": "light"
     },
     "output_type": "display_data"
    },
    {
     "data": {
      "image/png": "[encoded data removed]",
      "text/plain": [
       "<Figure size 288x288 with 1 Axes>"
      ]
     },
     "metadata": {
      "needs_background": "light"
     },
     "output_type": "display_data"
    },
    {
     "data": {
      "image/png": "[encoded data removed]",
      "text/plain": [
       "<Figure size 288x288 with 1 Axes>"
      ]
     },
     "metadata": {
      "needs_background": "light"
     },
     "output_type": "display_data"
    },
    {
     "data": {
      "image/png": "[encoded data removed]",
      "text/plain": [
       "<Figure size 288x288 with 1 Axes>"
      ]
     },
     "metadata": {
      "needs_background": "light"
     },
     "output_type": "display_data"
    },
    {
     "data": {
      "image/png": "[encoded data removed]",
      "text/plain": [
       "<Figure size 288x288 with 1 Axes>"
      ]
     },
     "metadata": {
      "needs_background": "light"
     },
     "output_type": "display_data"
    },
    {
     "data": {
      "image/png": "[encoded data removed]",
      "text/plain": [
       "<Figure size 288x288 with 1 Axes>"
      ]
     },
     "metadata": {
      "needs_background": "light"
     },
     "output_type": "display_data"
    },
    {
     "name": "stderr",
     "output_type": "stream",
     "text": [
      "2:80: E501 line too long (162 > 79 characters)\n",
      "2:163: W291 trailing whitespace\n",
      "3:80: E501 line too long (203 > 79 characters)\n",
      "5:3: E111 indentation is not a multiple of four\n",
      "6:3: E111 indentation is not a multiple of four\n",
      "7:3: E111 indentation is not a multiple of four\n"
     ]
    }
   ],
   "source": [
    "# sns.boxplot(data['minutes'])\n",
    "names = ['minutes', 'goals', 'assists', 'pens_made', 'pens_att', 'shots_total', 'shots_on_target', 'cards_yellow', 'cards_red', 'touches', 'pressures', 'tackles', \n",
    "         'interceptions', 'blocks', 'xg', 'npxg', 'xa', 'sca', 'gca', 'passes_completed', 'passes', 'passes_pct', 'progressive_passes', 'carries', 'progressive_carries', 'dribbles_completed', 'dribbles']\n",
    "for i in range(len(names)):\n",
    "  fig, ax = plt.subplots(1, figsize=(4, 4), sharey=True)\n",
    "  sns.boxplot(ax=ax, data=data[names[i]])\n",
    "  ax.set_title(names[i])"
   ]
  },
  {
   "cell_type": "markdown",
   "metadata": {
    "id": "2XsESzdsf3h9"
   },
   "source": [
    "En muchos campos vemos varios valores atípicos, pero analizando los datos, son valores que entran dentro de los posible, por eso se decide mantener dichos datos."
   ]
  },
  {
   "cell_type": "markdown",
   "metadata": {
    "id": "Pa-X1Yp5VA4E"
   },
   "source": [
    "# 4. Análisis de los datos"
   ]
  },
  {
   "cell_type": "markdown",
   "metadata": {},
   "source": [
    "Hacemos histogramas de los datos para entender mejor las distribuciones de las distintas variables"
   ]
  },
  {
   "cell_type": "code",
   "execution_count": 20,
   "metadata": {},
   "outputs": [
    {
     "name": "stderr",
     "output_type": "stream",
     "text": [
      "C:\\Users\\tomas\\anaconda3\\lib\\site-packages\\pandas\\plotting\\_matplotlib\\tools.py:223: RuntimeWarning: More than 20 figures have been opened. Figures created through the pyplot interface (`matplotlib.pyplot.figure`) are retained until explicitly closed and may consume too much memory. (To control this warning, see the rcParam `figure.max_open_warning`).\n",
      "  fig = plt.figure(**fig_kw)\n"
     ]
    },
    {
     "data": {
      "image/png": "[encoded data removed]",
      "text/plain": [
       "<Figure size 432x288 with 1 Axes>"
      ]
     },
     "metadata": {
      "needs_background": "light"
     },
     "output_type": "display_data"
    },
    {
     "data": {
      "image/png": "[encoded data removed]",
      "text/plain": [
       "<Figure size 432x288 with 1 Axes>"
      ]
     },
     "metadata": {
      "needs_background": "light"
     },
     "output_type": "display_data"
    },
    {
     "data": {
      "image/png": "[encoded data removed]",
      "text/plain": [
       "<Figure size 432x288 with 1 Axes>"
      ]
     },
     "metadata": {
      "needs_background": "light"
     },
     "output_type": "display_data"
    },
    {
     "data": {
      "image/png": "[encoded data removed]",
      "text/plain": [
       "<Figure size 432x288 with 1 Axes>"
      ]
     },
     "metadata": {
      "needs_background": "light"
     },
     "output_type": "display_data"
    },
    {
     "data": {
      "image/png": "[encoded data removed]",
      "text/plain": [
       "<Figure size 432x288 with 1 Axes>"
      ]
     },
     "metadata": {
      "needs_background": "light"
     },
     "output_type": "display_data"
    },
    {
     "data": {
      "image/png": "[encoded data removed]",
      "text/plain": [
       "<Figure size 432x288 with 1 Axes>"
      ]
     },
     "metadata": {
      "needs_background": "light"
     },
     "output_type": "display_data"
    },
    {
     "data": {
      "image/png": "[encoded data removed]",
      "text/plain": [
       "<Figure size 432x288 with 1 Axes>"
      ]
     },
     "metadata": {
      "needs_background": "light"
     },
     "output_type": "display_data"
    },
    {
     "data": {
      "image/png": "[encoded data removed]",
      "text/plain": [
       "<Figure size 432x288 with 1 Axes>"
      ]
     },
     "metadata": {
      "needs_background": "light"
     },
     "output_type": "display_data"
    },
    {
     "data": {
      "image/png": "[encoded data removed]",
      "text/plain": [
       "<Figure size 432x288 with 1 Axes>"
      ]
     },
     "metadata": {
      "needs_background": "light"
     },
     "output_type": "display_data"
    },
    {
     "data": {
      "image/png": "[encoded data removed]",
      "text/plain": [
       "<Figure size 432x288 with 1 Axes>"
      ]
     },
     "metadata": {
      "needs_background": "light"
     },
     "output_type": "display_data"
    },
    {
     "data": {
      "image/png": "[encoded data removed]",
      "text/plain": [
       "<Figure size 432x288 with 1 Axes>"
      ]
     },
     "metadata": {
      "needs_background": "light"
     },
     "output_type": "display_data"
    },
    {
     "data": {
      "image/png": "[encoded data removed]",
      "text/plain": [
       "<Figure size 432x288 with 1 Axes>"
      ]
     },
     "metadata": {
      "needs_background": "light"
     },
     "output_type": "display_data"
    },
    {
     "data": {
      "image/png": "[encoded data removed]",
      "text/plain": [
       "<Figure size 432x288 with 1 Axes>"
      ]
     },
     "metadata": {
      "needs_background": "light"
     },
     "output_type": "display_data"
    },
    {
     "data": {
      "image/png": "[encoded data removed]",
      "text/plain": [
       "<Figure size 432x288 with 1 Axes>"
      ]
     },
     "metadata": {
      "needs_background": "light"
     },
     "output_type": "display_data"
    },
    {
     "data": {
      "image/png": "[encoded data removed]",
      "text/plain": [
       "<Figure size 432x288 with 1 Axes>"
      ]
     },
     "metadata": {
      "needs_background": "light"
     },
     "output_type": "display_data"
    },
    {
     "data": {
      "image/png": "[encoded data removed]",
      "text/plain": [
       "<Figure size 432x288 with 1 Axes>"
      ]
     },
     "metadata": {
      "needs_background": "light"
     },
     "output_type": "display_data"
    },
    {
     "data": {
      "image/png": "[encoded data removed]",
      "text/plain": [
       "<Figure size 432x288 with 1 Axes>"
      ]
     },
     "metadata": {
      "needs_background": "light"
     },
     "output_type": "display_data"
    },
    {
     "data": {
      "image/png": "[encoded data removed]",
      "text/plain": [
       "<Figure size 432x288 with 1 Axes>"
      ]
     },
     "metadata": {
      "needs_background": "light"
     },
     "output_type": "display_data"
    },
    {
     "data": {
      "image/png": "[encoded data removed]",
      "text/plain": [
       "<Figure size 432x288 with 1 Axes>"
      ]
     },
     "metadata": {
      "needs_background": "light"
     },
     "output_type": "display_data"
    },
    {
     "data": {
      "image/png": "[encoded data removed]",
      "text/plain": [
       "<Figure size 432x288 with 1 Axes>"
      ]
     },
     "metadata": {
      "needs_background": "light"
     },
     "output_type": "display_data"
    },
    {
     "data": {
      "image/png": "[encoded data removed]",
      "text/plain": [
       "<Figure size 432x288 with 1 Axes>"
      ]
     },
     "metadata": {
      "needs_background": "light"
     },
     "output_type": "display_data"
    },
    {
     "data": {
      "image/png": "[encoded data removed]",
      "text/plain": [
       "<Figure size 432x288 with 1 Axes>"
      ]
     },
     "metadata": {
      "needs_background": "light"
     },
     "output_type": "display_data"
    },
    {
     "data": {
      "image/png": "[encoded data removed]",
      "text/plain": [
       "<Figure size 432x288 with 1 Axes>"
      ]
     },
     "metadata": {
      "needs_background": "light"
     },
     "output_type": "display_data"
    },
    {
     "data": {
      "image/png": "[encoded data removed]",
      "text/plain": [
       "<Figure size 432x288 with 1 Axes>"
      ]
     },
     "metadata": {
      "needs_background": "light"
     },
     "output_type": "display_data"
    },
    {
     "data": {
      "image/png": "[encoded data removed]",
      "text/plain": [
       "<Figure size 432x288 with 1 Axes>"
      ]
     },
     "metadata": {
      "needs_background": "light"
     },
     "output_type": "display_data"
    },
    {
     "data": {
      "image/png": "[encoded data removed]",
      "text/plain": [
       "<Figure size 432x288 with 1 Axes>"
      ]
     },
     "metadata": {
      "needs_background": "light"
     },
     "output_type": "display_data"
    },
    {
     "data": {
      "image/png": "[encoded data removed]",
      "text/plain": [
       "<Figure size 432x288 with 1 Axes>"
      ]
     },
     "metadata": {
      "needs_background": "light"
     },
     "output_type": "display_data"
    }
   ],
   "source": [
    "for name in names:\n",
    "    data.hist(column=name)"
   ]
  },
  {
   "cell_type": "code",
   "execution_count": 54,
   "metadata": {},
   "outputs": [],
   "source": [
    "data_liga = data[data['comp'] == 'La Liga']"
   ]
  },
  {
   "cell_type": "code",
   "execution_count": 55,
   "metadata": {},
   "outputs": [],
   "source": [
    "result_split = data_liga['result'].str.split(' ', expand=True)"
   ]
  },
  {
   "cell_type": "code",
   "execution_count": 56,
   "metadata": {},
   "outputs": [
    {
     "name": "stderr",
     "output_type": "stream",
     "text": [
      "C:\\Users\\tomas\\AppData\\Local\\Temp\\ipykernel_1340\\638886744.py:2: SettingWithCopyWarning: \n",
      "A value is trying to be set on a copy of a slice from a DataFrame.\n",
      "Try using .loc[row_indexer,col_indexer] = value instead\n",
      "\n",
      "See the caveats in the documentation: https://pandas.pydata.org/pandas-docs/stable/user_guide/indexing.html#returning-a-view-versus-a-copy\n",
      "  data_liga['result_wdl'] = result_split.loc[:, 0]\n"
     ]
    }
   ],
   "source": [
    "# resultado sólo cogiendo si gana, empata o pierde\n",
    "data_liga['result_wdl'] = result_split.loc[:, 0]"
   ]
  },
  {
   "cell_type": "code",
   "execution_count": 57,
   "metadata": {},
   "outputs": [],
   "source": [
    "goals_split = result_split.loc[:, 1].str.split('–', expand=True)"
   ]
  },
  {
   "cell_type": "code",
   "execution_count": 68,
   "metadata": {},
   "outputs": [
    {
     "name": "stderr",
     "output_type": "stream",
     "text": [
      "C:\\Users\\tomas\\AppData\\Local\\Temp\\ipykernel_1340\\2846974995.py:1: SettingWithCopyWarning: \n",
      "A value is trying to be set on a copy of a slice from a DataFrame.\n",
      "Try using .loc[row_indexer,col_indexer] = value instead\n",
      "\n",
      "See the caveats in the documentation: https://pandas.pydata.org/pandas-docs/stable/user_guide/indexing.html#returning-a-view-versus-a-copy\n",
      "  data_liga['goals_team'] = goals_split.loc[:, 0]\n",
      "C:\\Users\\tomas\\AppData\\Local\\Temp\\ipykernel_1340\\2846974995.py:2: SettingWithCopyWarning: \n",
      "A value is trying to be set on a copy of a slice from a DataFrame.\n",
      "Try using .loc[row_indexer,col_indexer] = value instead\n",
      "\n",
      "See the caveats in the documentation: https://pandas.pydata.org/pandas-docs/stable/user_guide/indexing.html#returning-a-view-versus-a-copy\n",
      "  data_liga['goals_rival'] = goals_split.loc[:, 1]\n",
      "C:\\Users\\tomas\\AppData\\Local\\Temp\\ipykernel_1340\\2846974995.py:4: SettingWithCopyWarning: \n",
      "A value is trying to be set on a copy of a slice from a DataFrame.\n",
      "Try using .loc[row_indexer,col_indexer] = value instead\n",
      "\n",
      "See the caveats in the documentation: https://pandas.pydata.org/pandas-docs/stable/user_guide/indexing.html#returning-a-view-versus-a-copy\n",
      "  data_liga['goals_team'] = data_liga['goals_team'].astype(int)\n",
      "C:\\Users\\tomas\\AppData\\Local\\Temp\\ipykernel_1340\\2846974995.py:5: SettingWithCopyWarning: \n",
      "A value is trying to be set on a copy of a slice from a DataFrame.\n",
      "Try using .loc[row_indexer,col_indexer] = value instead\n",
      "\n",
      "See the caveats in the documentation: https://pandas.pydata.org/pandas-docs/stable/user_guide/indexing.html#returning-a-view-versus-a-copy\n",
      "  data_liga['goals_rival'] = data_liga['goals_rival'].astype(int)\n"
     ]
    }
   ],
   "source": [
    "data_liga['goals_team'] = goals_split.loc[:, 0]\n",
    "data_liga['goals_rival'] = goals_split.loc[:, 1]\n",
    "\n",
    "data_liga['goals_team'] = data_liga['goals_team'].astype(int)\n",
    "data_liga['goals_rival'] = data_liga['goals_rival'].astype(int)"
   ]
  },
  {
   "cell_type": "code",
   "execution_count": 61,
   "metadata": {},
   "outputs": [
    {
     "data": {
      "text/html": [
       "<div>\n",
       "<style scoped>\n",
       "    .dataframe tbody tr th:only-of-type {\n",
       "        vertical-align: middle;\n",
       "    }\n",
       "\n",
       "    .dataframe tbody tr th {\n",
       "        vertical-align: top;\n",
       "    }\n",
       "\n",
       "    .dataframe thead th {\n",
       "        text-align: right;\n",
       "    }\n",
       "</style>\n",
       "<table border=\"1\" class=\"dataframe\">\n",
       "  <thead>\n",
       "    <tr style=\"text-align: right;\">\n",
       "      <th></th>\n",
       "      <th>equipo</th>\n",
       "      <th>jugador</th>\n",
       "      <th>date</th>\n",
       "      <th>dayofweek</th>\n",
       "      <th>comp</th>\n",
       "      <th>round</th>\n",
       "      <th>venue</th>\n",
       "      <th>result</th>\n",
       "      <th>squad</th>\n",
       "      <th>opponent</th>\n",
       "      <th>...</th>\n",
       "      <th>passes</th>\n",
       "      <th>passes_pct</th>\n",
       "      <th>progressive_passes</th>\n",
       "      <th>carries</th>\n",
       "      <th>progressive_carries</th>\n",
       "      <th>dribbles_completed</th>\n",
       "      <th>dribbles</th>\n",
       "      <th>result_wdl</th>\n",
       "      <th>goals_team</th>\n",
       "      <th>goals_rival</th>\n",
       "    </tr>\n",
       "  </thead>\n",
       "  <tbody>\n",
       "    <tr>\n",
       "      <th>0</th>\n",
       "      <td>Alavés</td>\n",
       "      <td>Luis Rioja</td>\n",
       "      <td>2021-08-14</td>\n",
       "      <td>Sáb</td>\n",
       "      <td>La Liga</td>\n",
       "      <td>Semana 1 de partido</td>\n",
       "      <td>Local</td>\n",
       "      <td>D 1–4</td>\n",
       "      <td>Alavés</td>\n",
       "      <td>Real Madrid</td>\n",
       "      <td>...</td>\n",
       "      <td>16.0</td>\n",
       "      <td>75.0</td>\n",
       "      <td>0.0</td>\n",
       "      <td>20.0</td>\n",
       "      <td>4.0</td>\n",
       "      <td>1.0</td>\n",
       "      <td>1.0</td>\n",
       "      <td>D</td>\n",
       "      <td>1</td>\n",
       "      <td>4</td>\n",
       "    </tr>\n",
       "    <tr>\n",
       "      <th>1</th>\n",
       "      <td>Alavés</td>\n",
       "      <td>Luis Rioja</td>\n",
       "      <td>2021-08-21</td>\n",
       "      <td>Sáb</td>\n",
       "      <td>La Liga</td>\n",
       "      <td>Semana 2 de partido</td>\n",
       "      <td>Local</td>\n",
       "      <td>D 0–1</td>\n",
       "      <td>Alavés</td>\n",
       "      <td>Mallorca</td>\n",
       "      <td>...</td>\n",
       "      <td>25.0</td>\n",
       "      <td>48.0</td>\n",
       "      <td>0.0</td>\n",
       "      <td>27.0</td>\n",
       "      <td>8.0</td>\n",
       "      <td>2.0</td>\n",
       "      <td>3.0</td>\n",
       "      <td>D</td>\n",
       "      <td>0</td>\n",
       "      <td>1</td>\n",
       "    </tr>\n",
       "    <tr>\n",
       "      <th>2</th>\n",
       "      <td>Alavés</td>\n",
       "      <td>Luis Rioja</td>\n",
       "      <td>2021-08-27</td>\n",
       "      <td>Vie</td>\n",
       "      <td>La Liga</td>\n",
       "      <td>Semana 3 de partido</td>\n",
       "      <td>Visitante</td>\n",
       "      <td>D 0–3</td>\n",
       "      <td>Alavés</td>\n",
       "      <td>Valencia</td>\n",
       "      <td>...</td>\n",
       "      <td>22.0</td>\n",
       "      <td>68.2</td>\n",
       "      <td>2.0</td>\n",
       "      <td>22.0</td>\n",
       "      <td>4.0</td>\n",
       "      <td>2.0</td>\n",
       "      <td>4.0</td>\n",
       "      <td>D</td>\n",
       "      <td>0</td>\n",
       "      <td>3</td>\n",
       "    </tr>\n",
       "    <tr>\n",
       "      <th>3</th>\n",
       "      <td>Alavés</td>\n",
       "      <td>Luis Rioja</td>\n",
       "      <td>2021-09-18</td>\n",
       "      <td>Sáb</td>\n",
       "      <td>La Liga</td>\n",
       "      <td>Semana 5 de partido</td>\n",
       "      <td>Local</td>\n",
       "      <td>D 0–2</td>\n",
       "      <td>Alavés</td>\n",
       "      <td>Osasuna</td>\n",
       "      <td>...</td>\n",
       "      <td>37.0</td>\n",
       "      <td>51.4</td>\n",
       "      <td>1.0</td>\n",
       "      <td>36.0</td>\n",
       "      <td>3.0</td>\n",
       "      <td>2.0</td>\n",
       "      <td>6.0</td>\n",
       "      <td>D</td>\n",
       "      <td>0</td>\n",
       "      <td>2</td>\n",
       "    </tr>\n",
       "    <tr>\n",
       "      <th>4</th>\n",
       "      <td>Alavés</td>\n",
       "      <td>Luis Rioja</td>\n",
       "      <td>2021-09-22</td>\n",
       "      <td>Mié</td>\n",
       "      <td>La Liga</td>\n",
       "      <td>Semana 6 de partido</td>\n",
       "      <td>Visitante</td>\n",
       "      <td>D 0–1</td>\n",
       "      <td>Alavés</td>\n",
       "      <td>Espanyol</td>\n",
       "      <td>...</td>\n",
       "      <td>42.0</td>\n",
       "      <td>71.4</td>\n",
       "      <td>1.0</td>\n",
       "      <td>41.0</td>\n",
       "      <td>12.0</td>\n",
       "      <td>3.0</td>\n",
       "      <td>4.0</td>\n",
       "      <td>D</td>\n",
       "      <td>0</td>\n",
       "      <td>1</td>\n",
       "    </tr>\n",
       "  </tbody>\n",
       "</table>\n",
       "<p>5 rows × 42 columns</p>\n",
       "</div>"
      ],
      "text/plain": [
       "   equipo     jugador       date dayofweek     comp                round  \\\n",
       "0  Alavés  Luis Rioja 2021-08-14       Sáb  La Liga  Semana 1 de partido   \n",
       "1  Alavés  Luis Rioja 2021-08-21       Sáb  La Liga  Semana 2 de partido   \n",
       "2  Alavés  Luis Rioja 2021-08-27       Vie  La Liga  Semana 3 de partido   \n",
       "3  Alavés  Luis Rioja 2021-09-18       Sáb  La Liga  Semana 5 de partido   \n",
       "4  Alavés  Luis Rioja 2021-09-22       Mié  La Liga  Semana 6 de partido   \n",
       "\n",
       "       venue result   squad     opponent  ... passes passes_pct  \\\n",
       "0      Local  D 1–4  Alavés  Real Madrid  ...   16.0       75.0   \n",
       "1      Local  D 0–1  Alavés     Mallorca  ...   25.0       48.0   \n",
       "2  Visitante  D 0–3  Alavés     Valencia  ...   22.0       68.2   \n",
       "3      Local  D 0–2  Alavés      Osasuna  ...   37.0       51.4   \n",
       "4  Visitante  D 0–1  Alavés     Espanyol  ...   42.0       71.4   \n",
       "\n",
       "   progressive_passes  carries  progressive_carries  dribbles_completed  \\\n",
       "0                 0.0     20.0                  4.0                 1.0   \n",
       "1                 0.0     27.0                  8.0                 2.0   \n",
       "2                 2.0     22.0                  4.0                 2.0   \n",
       "3                 1.0     36.0                  3.0                 2.0   \n",
       "4                 1.0     41.0                 12.0                 3.0   \n",
       "\n",
       "   dribbles  result_wdl  goals_team  goals_rival  \n",
       "0       1.0           D           1            4  \n",
       "1       3.0           D           0            1  \n",
       "2       4.0           D           0            3  \n",
       "3       6.0           D           0            2  \n",
       "4       4.0           D           0            1  \n",
       "\n",
       "[5 rows x 42 columns]"
      ]
     },
     "execution_count": 61,
     "metadata": {},
     "output_type": "execute_result"
    }
   ],
   "source": [
    "data.head()"
   ]
  },
  {
   "cell_type": "code",
   "execution_count": 69,
   "metadata": {},
   "outputs": [
    {
     "data": {
      "text/html": [
       "<div>\n",
       "<style scoped>\n",
       "    .dataframe tbody tr th:only-of-type {\n",
       "        vertical-align: middle;\n",
       "    }\n",
       "\n",
       "    .dataframe tbody tr th {\n",
       "        vertical-align: top;\n",
       "    }\n",
       "\n",
       "    .dataframe thead th {\n",
       "        text-align: right;\n",
       "    }\n",
       "</style>\n",
       "<table border=\"1\" class=\"dataframe\">\n",
       "  <thead>\n",
       "    <tr style=\"text-align: right;\">\n",
       "      <th></th>\n",
       "      <th>minutes</th>\n",
       "      <th>goals</th>\n",
       "      <th>assists</th>\n",
       "      <th>pens_made</th>\n",
       "      <th>pens_att</th>\n",
       "      <th>shots_total</th>\n",
       "      <th>shots_on_target</th>\n",
       "      <th>cards_yellow</th>\n",
       "      <th>cards_red</th>\n",
       "      <th>touches</th>\n",
       "      <th>...</th>\n",
       "      <th>passes_completed</th>\n",
       "      <th>passes</th>\n",
       "      <th>passes_pct</th>\n",
       "      <th>progressive_passes</th>\n",
       "      <th>carries</th>\n",
       "      <th>progressive_carries</th>\n",
       "      <th>dribbles_completed</th>\n",
       "      <th>dribbles</th>\n",
       "      <th>goals_team</th>\n",
       "      <th>goals_rival</th>\n",
       "    </tr>\n",
       "    <tr>\n",
       "      <th>squad</th>\n",
       "      <th></th>\n",
       "      <th></th>\n",
       "      <th></th>\n",
       "      <th></th>\n",
       "      <th></th>\n",
       "      <th></th>\n",
       "      <th></th>\n",
       "      <th></th>\n",
       "      <th></th>\n",
       "      <th></th>\n",
       "      <th></th>\n",
       "      <th></th>\n",
       "      <th></th>\n",
       "      <th></th>\n",
       "      <th></th>\n",
       "      <th></th>\n",
       "      <th></th>\n",
       "      <th></th>\n",
       "      <th></th>\n",
       "      <th></th>\n",
       "      <th></th>\n",
       "    </tr>\n",
       "  </thead>\n",
       "  <tbody>\n",
       "    <tr>\n",
       "      <th>Alavés</th>\n",
       "      <td>62.866525</td>\n",
       "      <td>0.048729</td>\n",
       "      <td>0.029661</td>\n",
       "      <td>0.012712</td>\n",
       "      <td>0.014831</td>\n",
       "      <td>0.616525</td>\n",
       "      <td>0.175847</td>\n",
       "      <td>0.141949</td>\n",
       "      <td>0.004237</td>\n",
       "      <td>29.533898</td>\n",
       "      <td>...</td>\n",
       "      <td>15.489407</td>\n",
       "      <td>22.277542</td>\n",
       "      <td>64.462288</td>\n",
       "      <td>1.330508</td>\n",
       "      <td>15.055085</td>\n",
       "      <td>1.411017</td>\n",
       "      <td>0.427966</td>\n",
       "      <td>0.822034</td>\n",
       "      <td>0.796830</td>\n",
       "      <td>1.657061</td>\n",
       "    </tr>\n",
       "    <tr>\n",
       "      <th>Athletic Club</th>\n",
       "      <td>63.220264</td>\n",
       "      <td>0.068282</td>\n",
       "      <td>0.059471</td>\n",
       "      <td>0.004405</td>\n",
       "      <td>0.011013</td>\n",
       "      <td>0.797357</td>\n",
       "      <td>0.246696</td>\n",
       "      <td>0.145374</td>\n",
       "      <td>0.004405</td>\n",
       "      <td>36.497797</td>\n",
       "      <td>...</td>\n",
       "      <td>22.363436</td>\n",
       "      <td>29.286344</td>\n",
       "      <td>73.796476</td>\n",
       "      <td>2.312775</td>\n",
       "      <td>21.383260</td>\n",
       "      <td>2.572687</td>\n",
       "      <td>0.480176</td>\n",
       "      <td>0.925110</td>\n",
       "      <td>1.130293</td>\n",
       "      <td>0.969055</td>\n",
       "    </tr>\n",
       "    <tr>\n",
       "      <th>Atlético Madrid</th>\n",
       "      <td>63.978541</td>\n",
       "      <td>0.115632</td>\n",
       "      <td>0.083512</td>\n",
       "      <td>0.002141</td>\n",
       "      <td>0.004283</td>\n",
       "      <td>0.826552</td>\n",
       "      <td>0.293362</td>\n",
       "      <td>0.190578</td>\n",
       "      <td>0.012848</td>\n",
       "      <td>38.096567</td>\n",
       "      <td>...</td>\n",
       "      <td>25.053648</td>\n",
       "      <td>31.210300</td>\n",
       "      <td>74.403004</td>\n",
       "      <td>2.094421</td>\n",
       "      <td>24.536481</td>\n",
       "      <td>2.793991</td>\n",
       "      <td>0.521459</td>\n",
       "      <td>0.912017</td>\n",
       "      <td>1.811644</td>\n",
       "      <td>1.229452</td>\n",
       "    </tr>\n",
       "    <tr>\n",
       "      <th>Barcelona</th>\n",
       "      <td>64.421546</td>\n",
       "      <td>0.133489</td>\n",
       "      <td>0.088993</td>\n",
       "      <td>0.014052</td>\n",
       "      <td>0.016393</td>\n",
       "      <td>0.903981</td>\n",
       "      <td>0.304450</td>\n",
       "      <td>0.156909</td>\n",
       "      <td>0.011710</td>\n",
       "      <td>49.185012</td>\n",
       "      <td>...</td>\n",
       "      <td>36.210773</td>\n",
       "      <td>41.845433</td>\n",
       "      <td>82.904918</td>\n",
       "      <td>2.843091</td>\n",
       "      <td>34.899297</td>\n",
       "      <td>3.918033</td>\n",
       "      <td>0.688525</td>\n",
       "      <td>1.182670</td>\n",
       "      <td>1.937500</td>\n",
       "      <td>1.083333</td>\n",
       "    </tr>\n",
       "    <tr>\n",
       "      <th>Betis</th>\n",
       "      <td>64.270396</td>\n",
       "      <td>0.114219</td>\n",
       "      <td>0.081585</td>\n",
       "      <td>0.011655</td>\n",
       "      <td>0.011655</td>\n",
       "      <td>0.911422</td>\n",
       "      <td>0.340326</td>\n",
       "      <td>0.165501</td>\n",
       "      <td>0.011655</td>\n",
       "      <td>41.000000</td>\n",
       "      <td>...</td>\n",
       "      <td>27.069930</td>\n",
       "      <td>33.214452</td>\n",
       "      <td>78.509557</td>\n",
       "      <td>2.174825</td>\n",
       "      <td>26.561772</td>\n",
       "      <td>2.778555</td>\n",
       "      <td>0.610723</td>\n",
       "      <td>1.109557</td>\n",
       "      <td>1.794258</td>\n",
       "      <td>1.237640</td>\n",
       "    </tr>\n",
       "    <tr>\n",
       "      <th>Celta Vigo</th>\n",
       "      <td>64.927739</td>\n",
       "      <td>0.076923</td>\n",
       "      <td>0.048951</td>\n",
       "      <td>0.006993</td>\n",
       "      <td>0.013986</td>\n",
       "      <td>0.694639</td>\n",
       "      <td>0.214452</td>\n",
       "      <td>0.160839</td>\n",
       "      <td>0.004662</td>\n",
       "      <td>42.885781</td>\n",
       "      <td>...</td>\n",
       "      <td>27.545455</td>\n",
       "      <td>35.023310</td>\n",
       "      <td>77.024476</td>\n",
       "      <td>1.967366</td>\n",
       "      <td>26.324009</td>\n",
       "      <td>2.906760</td>\n",
       "      <td>0.494172</td>\n",
       "      <td>0.902098</td>\n",
       "      <td>1.196078</td>\n",
       "      <td>1.135621</td>\n",
       "    </tr>\n",
       "    <tr>\n",
       "      <th>Cádiz</th>\n",
       "      <td>63.173362</td>\n",
       "      <td>0.052854</td>\n",
       "      <td>0.038055</td>\n",
       "      <td>0.006342</td>\n",
       "      <td>0.010571</td>\n",
       "      <td>0.638478</td>\n",
       "      <td>0.162791</td>\n",
       "      <td>0.177590</td>\n",
       "      <td>0.004228</td>\n",
       "      <td>30.627907</td>\n",
       "      <td>...</td>\n",
       "      <td>16.338266</td>\n",
       "      <td>22.966173</td>\n",
       "      <td>68.374630</td>\n",
       "      <td>1.365751</td>\n",
       "      <td>17.093023</td>\n",
       "      <td>1.792812</td>\n",
       "      <td>0.395349</td>\n",
       "      <td>0.809725</td>\n",
       "      <td>0.865583</td>\n",
       "      <td>1.451994</td>\n",
       "    </tr>\n",
       "    <tr>\n",
       "      <th>Elche</th>\n",
       "      <td>63.703476</td>\n",
       "      <td>0.069246</td>\n",
       "      <td>0.046843</td>\n",
       "      <td>0.002037</td>\n",
       "      <td>0.002037</td>\n",
       "      <td>0.570265</td>\n",
       "      <td>0.191446</td>\n",
       "      <td>0.167006</td>\n",
       "      <td>0.010183</td>\n",
       "      <td>34.423313</td>\n",
       "      <td>...</td>\n",
       "      <td>20.959100</td>\n",
       "      <td>27.104294</td>\n",
       "      <td>74.207975</td>\n",
       "      <td>1.496933</td>\n",
       "      <td>21.179959</td>\n",
       "      <td>2.063395</td>\n",
       "      <td>0.517382</td>\n",
       "      <td>0.983640</td>\n",
       "      <td>1.040462</td>\n",
       "      <td>1.391618</td>\n",
       "    </tr>\n",
       "    <tr>\n",
       "      <th>Espanyol</th>\n",
       "      <td>61.260870</td>\n",
       "      <td>0.073753</td>\n",
       "      <td>0.045553</td>\n",
       "      <td>0.008677</td>\n",
       "      <td>0.008677</td>\n",
       "      <td>0.678959</td>\n",
       "      <td>0.212581</td>\n",
       "      <td>0.154013</td>\n",
       "      <td>0.013015</td>\n",
       "      <td>33.860870</td>\n",
       "      <td>...</td>\n",
       "      <td>21.167391</td>\n",
       "      <td>26.652174</td>\n",
       "      <td>75.055435</td>\n",
       "      <td>1.486957</td>\n",
       "      <td>21.069565</td>\n",
       "      <td>2.141304</td>\n",
       "      <td>0.532609</td>\n",
       "      <td>0.965217</td>\n",
       "      <td>1.213534</td>\n",
       "      <td>1.469173</td>\n",
       "    </tr>\n",
       "    <tr>\n",
       "      <th>Getafe</th>\n",
       "      <td>66.071882</td>\n",
       "      <td>0.058700</td>\n",
       "      <td>0.044025</td>\n",
       "      <td>0.006289</td>\n",
       "      <td>0.008386</td>\n",
       "      <td>0.716981</td>\n",
       "      <td>0.207547</td>\n",
       "      <td>0.213836</td>\n",
       "      <td>0.018868</td>\n",
       "      <td>33.665962</td>\n",
       "      <td>...</td>\n",
       "      <td>18.484144</td>\n",
       "      <td>25.841438</td>\n",
       "      <td>68.234249</td>\n",
       "      <td>1.551797</td>\n",
       "      <td>18.211416</td>\n",
       "      <td>1.737844</td>\n",
       "      <td>0.429175</td>\n",
       "      <td>0.839323</td>\n",
       "      <td>0.955817</td>\n",
       "      <td>1.148748</td>\n",
       "    </tr>\n",
       "    <tr>\n",
       "      <th>Granada</th>\n",
       "      <td>63.287305</td>\n",
       "      <td>0.066372</td>\n",
       "      <td>0.042035</td>\n",
       "      <td>0.004425</td>\n",
       "      <td>0.006637</td>\n",
       "      <td>0.659292</td>\n",
       "      <td>0.196903</td>\n",
       "      <td>0.174779</td>\n",
       "      <td>0.006637</td>\n",
       "      <td>31.447661</td>\n",
       "      <td>...</td>\n",
       "      <td>17.937639</td>\n",
       "      <td>24.445434</td>\n",
       "      <td>69.094878</td>\n",
       "      <td>1.454343</td>\n",
       "      <td>17.634744</td>\n",
       "      <td>1.761693</td>\n",
       "      <td>0.365256</td>\n",
       "      <td>0.721604</td>\n",
       "      <td>1.068536</td>\n",
       "      <td>1.605919</td>\n",
       "    </tr>\n",
       "    <tr>\n",
       "      <th>Levante</th>\n",
       "      <td>63.158590</td>\n",
       "      <td>0.068282</td>\n",
       "      <td>0.048458</td>\n",
       "      <td>0.006608</td>\n",
       "      <td>0.013216</td>\n",
       "      <td>0.654185</td>\n",
       "      <td>0.226872</td>\n",
       "      <td>0.185022</td>\n",
       "      <td>0.013216</td>\n",
       "      <td>34.757709</td>\n",
       "      <td>...</td>\n",
       "      <td>21.438326</td>\n",
       "      <td>27.777533</td>\n",
       "      <td>74.270705</td>\n",
       "      <td>1.940529</td>\n",
       "      <td>21.011013</td>\n",
       "      <td>2.125551</td>\n",
       "      <td>0.500000</td>\n",
       "      <td>1.006608</td>\n",
       "      <td>1.079632</td>\n",
       "      <td>2.012251</td>\n",
       "    </tr>\n",
       "    <tr>\n",
       "      <th>Mallorca</th>\n",
       "      <td>62.752834</td>\n",
       "      <td>0.051802</td>\n",
       "      <td>0.033784</td>\n",
       "      <td>0.011261</td>\n",
       "      <td>0.013514</td>\n",
       "      <td>0.754505</td>\n",
       "      <td>0.211712</td>\n",
       "      <td>0.189189</td>\n",
       "      <td>0.013514</td>\n",
       "      <td>33.242630</td>\n",
       "      <td>...</td>\n",
       "      <td>19.458050</td>\n",
       "      <td>25.786848</td>\n",
       "      <td>72.617687</td>\n",
       "      <td>1.630385</td>\n",
       "      <td>19.680272</td>\n",
       "      <td>2.269841</td>\n",
       "      <td>0.646259</td>\n",
       "      <td>1.077098</td>\n",
       "      <td>0.928571</td>\n",
       "      <td>1.714286</td>\n",
       "    </tr>\n",
       "    <tr>\n",
       "      <th>Osasuna</th>\n",
       "      <td>63.618625</td>\n",
       "      <td>0.064159</td>\n",
       "      <td>0.042035</td>\n",
       "      <td>0.008850</td>\n",
       "      <td>0.011062</td>\n",
       "      <td>0.727876</td>\n",
       "      <td>0.207965</td>\n",
       "      <td>0.146018</td>\n",
       "      <td>0.004425</td>\n",
       "      <td>34.662971</td>\n",
       "      <td>...</td>\n",
       "      <td>19.665188</td>\n",
       "      <td>27.117517</td>\n",
       "      <td>68.994900</td>\n",
       "      <td>1.860310</td>\n",
       "      <td>18.809313</td>\n",
       "      <td>1.946785</td>\n",
       "      <td>0.403548</td>\n",
       "      <td>0.733925</td>\n",
       "      <td>1.001508</td>\n",
       "      <td>1.242836</td>\n",
       "    </tr>\n",
       "    <tr>\n",
       "      <th>Rayo Vallecano</th>\n",
       "      <td>62.246085</td>\n",
       "      <td>0.062640</td>\n",
       "      <td>0.049217</td>\n",
       "      <td>0.006711</td>\n",
       "      <td>0.006711</td>\n",
       "      <td>0.841163</td>\n",
       "      <td>0.219239</td>\n",
       "      <td>0.156600</td>\n",
       "      <td>0.002237</td>\n",
       "      <td>33.939597</td>\n",
       "      <td>...</td>\n",
       "      <td>20.261745</td>\n",
       "      <td>26.465324</td>\n",
       "      <td>70.468456</td>\n",
       "      <td>1.845638</td>\n",
       "      <td>20.040268</td>\n",
       "      <td>2.261745</td>\n",
       "      <td>0.521253</td>\n",
       "      <td>1.033557</td>\n",
       "      <td>1.051118</td>\n",
       "      <td>1.207668</td>\n",
       "    </tr>\n",
       "    <tr>\n",
       "      <th>Real Madrid</th>\n",
       "      <td>64.926714</td>\n",
       "      <td>0.139480</td>\n",
       "      <td>0.101655</td>\n",
       "      <td>0.014184</td>\n",
       "      <td>0.016548</td>\n",
       "      <td>1.118203</td>\n",
       "      <td>0.406619</td>\n",
       "      <td>0.125296</td>\n",
       "      <td>0.000000</td>\n",
       "      <td>49.796690</td>\n",
       "      <td>...</td>\n",
       "      <td>37.463357</td>\n",
       "      <td>42.829787</td>\n",
       "      <td>84.840426</td>\n",
       "      <td>2.886525</td>\n",
       "      <td>35.179669</td>\n",
       "      <td>4.174941</td>\n",
       "      <td>0.751773</td>\n",
       "      <td>1.349882</td>\n",
       "      <td>2.129870</td>\n",
       "      <td>0.746753</td>\n",
       "    </tr>\n",
       "    <tr>\n",
       "      <th>Real Sociedad</th>\n",
       "      <td>62.060674</td>\n",
       "      <td>0.065169</td>\n",
       "      <td>0.035955</td>\n",
       "      <td>0.013483</td>\n",
       "      <td>0.015730</td>\n",
       "      <td>0.689888</td>\n",
       "      <td>0.226966</td>\n",
       "      <td>0.114607</td>\n",
       "      <td>0.006742</td>\n",
       "      <td>38.426966</td>\n",
       "      <td>...</td>\n",
       "      <td>24.939326</td>\n",
       "      <td>30.952809</td>\n",
       "      <td>76.682921</td>\n",
       "      <td>1.887640</td>\n",
       "      <td>24.761798</td>\n",
       "      <td>2.570787</td>\n",
       "      <td>0.543820</td>\n",
       "      <td>1.042697</td>\n",
       "      <td>1.024631</td>\n",
       "      <td>1.039409</td>\n",
       "    </tr>\n",
       "    <tr>\n",
       "      <th>Sevilla</th>\n",
       "      <td>62.103524</td>\n",
       "      <td>0.083700</td>\n",
       "      <td>0.063877</td>\n",
       "      <td>0.004405</td>\n",
       "      <td>0.006608</td>\n",
       "      <td>0.746696</td>\n",
       "      <td>0.231278</td>\n",
       "      <td>0.156388</td>\n",
       "      <td>0.008811</td>\n",
       "      <td>43.328194</td>\n",
       "      <td>...</td>\n",
       "      <td>30.488987</td>\n",
       "      <td>36.561674</td>\n",
       "      <td>79.613877</td>\n",
       "      <td>1.931718</td>\n",
       "      <td>29.246696</td>\n",
       "      <td>2.469163</td>\n",
       "      <td>0.515419</td>\n",
       "      <td>0.940529</td>\n",
       "      <td>1.444444</td>\n",
       "      <td>0.674074</td>\n",
       "    </tr>\n",
       "    <tr>\n",
       "      <th>Valencia</th>\n",
       "      <td>62.986916</td>\n",
       "      <td>0.087850</td>\n",
       "      <td>0.054206</td>\n",
       "      <td>0.013084</td>\n",
       "      <td>0.014953</td>\n",
       "      <td>0.717757</td>\n",
       "      <td>0.244860</td>\n",
       "      <td>0.244860</td>\n",
       "      <td>0.013084</td>\n",
       "      <td>30.026168</td>\n",
       "      <td>...</td>\n",
       "      <td>16.001869</td>\n",
       "      <td>22.433645</td>\n",
       "      <td>68.238131</td>\n",
       "      <td>1.714019</td>\n",
       "      <td>16.424299</td>\n",
       "      <td>1.884112</td>\n",
       "      <td>0.506542</td>\n",
       "      <td>0.940187</td>\n",
       "      <td>1.453567</td>\n",
       "      <td>1.497981</td>\n",
       "    </tr>\n",
       "    <tr>\n",
       "      <th>Villarreal</th>\n",
       "      <td>62.053571</td>\n",
       "      <td>0.104911</td>\n",
       "      <td>0.087054</td>\n",
       "      <td>0.008929</td>\n",
       "      <td>0.011161</td>\n",
       "      <td>0.779018</td>\n",
       "      <td>0.265625</td>\n",
       "      <td>0.138393</td>\n",
       "      <td>0.002232</td>\n",
       "      <td>40.953125</td>\n",
       "      <td>...</td>\n",
       "      <td>28.223214</td>\n",
       "      <td>34.109375</td>\n",
       "      <td>79.512723</td>\n",
       "      <td>2.466518</td>\n",
       "      <td>27.459821</td>\n",
       "      <td>2.966518</td>\n",
       "      <td>0.689732</td>\n",
       "      <td>1.183036</td>\n",
       "      <td>1.703937</td>\n",
       "      <td>0.960630</td>\n",
       "    </tr>\n",
       "  </tbody>\n",
       "</table>\n",
       "<p>20 rows × 29 columns</p>\n",
       "</div>"
      ],
      "text/plain": [
       "                   minutes     goals   assists  pens_made  pens_att  \\\n",
       "squad                                                                 \n",
       "Alavés           62.866525  0.048729  0.029661   0.012712  0.014831   \n",
       "Athletic Club    63.220264  0.068282  0.059471   0.004405  0.011013   \n",
       "Atlético Madrid  63.978541  0.115632  0.083512   0.002141  0.004283   \n",
       "Barcelona        64.421546  0.133489  0.088993   0.014052  0.016393   \n",
       "Betis            64.270396  0.114219  0.081585   0.011655  0.011655   \n",
       "Celta Vigo       64.927739  0.076923  0.048951   0.006993  0.013986   \n",
       "Cádiz            63.173362  0.052854  0.038055   0.006342  0.010571   \n",
       "Elche            63.703476  0.069246  0.046843   0.002037  0.002037   \n",
       "Espanyol         61.260870  0.073753  0.045553   0.008677  0.008677   \n",
       "Getafe           66.071882  0.058700  0.044025   0.006289  0.008386   \n",
       "Granada          63.287305  0.066372  0.042035   0.004425  0.006637   \n",
       "Levante          63.158590  0.068282  0.048458   0.006608  0.013216   \n",
       "Mallorca         62.752834  0.051802  0.033784   0.011261  0.013514   \n",
       "Osasuna          63.618625  0.064159  0.042035   0.008850  0.011062   \n",
       "Rayo Vallecano   62.246085  0.062640  0.049217   0.006711  0.006711   \n",
       "Real Madrid      64.926714  0.139480  0.101655   0.014184  0.016548   \n",
       "Real Sociedad    62.060674  0.065169  0.035955   0.013483  0.015730   \n",
       "Sevilla          62.103524  0.083700  0.063877   0.004405  0.006608   \n",
       "Valencia         62.986916  0.087850  0.054206   0.013084  0.014953   \n",
       "Villarreal       62.053571  0.104911  0.087054   0.008929  0.011161   \n",
       "\n",
       "                 shots_total  shots_on_target  cards_yellow  cards_red  \\\n",
       "squad                                                                    \n",
       "Alavés              0.616525         0.175847      0.141949   0.004237   \n",
       "Athletic Club       0.797357         0.246696      0.145374   0.004405   \n",
       "Atlético Madrid     0.826552         0.293362      0.190578   0.012848   \n",
       "Barcelona           0.903981         0.304450      0.156909   0.011710   \n",
       "Betis               0.911422         0.340326      0.165501   0.011655   \n",
       "Celta Vigo          0.694639         0.214452      0.160839   0.004662   \n",
       "Cádiz               0.638478         0.162791      0.177590   0.004228   \n",
       "Elche               0.570265         0.191446      0.167006   0.010183   \n",
       "Espanyol            0.678959         0.212581      0.154013   0.013015   \n",
       "Getafe              0.716981         0.207547      0.213836   0.018868   \n",
       "Granada             0.659292         0.196903      0.174779   0.006637   \n",
       "Levante             0.654185         0.226872      0.185022   0.013216   \n",
       "Mallorca            0.754505         0.211712      0.189189   0.013514   \n",
       "Osasuna             0.727876         0.207965      0.146018   0.004425   \n",
       "Rayo Vallecano      0.841163         0.219239      0.156600   0.002237   \n",
       "Real Madrid         1.118203         0.406619      0.125296   0.000000   \n",
       "Real Sociedad       0.689888         0.226966      0.114607   0.006742   \n",
       "Sevilla             0.746696         0.231278      0.156388   0.008811   \n",
       "Valencia            0.717757         0.244860      0.244860   0.013084   \n",
       "Villarreal          0.779018         0.265625      0.138393   0.002232   \n",
       "\n",
       "                   touches  ...  passes_completed     passes  passes_pct  \\\n",
       "squad                       ...                                            \n",
       "Alavés           29.533898  ...         15.489407  22.277542   64.462288   \n",
       "Athletic Club    36.497797  ...         22.363436  29.286344   73.796476   \n",
       "Atlético Madrid  38.096567  ...         25.053648  31.210300   74.403004   \n",
       "Barcelona        49.185012  ...         36.210773  41.845433   82.904918   \n",
       "Betis            41.000000  ...         27.069930  33.214452   78.509557   \n",
       "Celta Vigo       42.885781  ...         27.545455  35.023310   77.024476   \n",
       "Cádiz            30.627907  ...         16.338266  22.966173   68.374630   \n",
       "Elche            34.423313  ...         20.959100  27.104294   74.207975   \n",
       "Espanyol         33.860870  ...         21.167391  26.652174   75.055435   \n",
       "Getafe           33.665962  ...         18.484144  25.841438   68.234249   \n",
       "Granada          31.447661  ...         17.937639  24.445434   69.094878   \n",
       "Levante          34.757709  ...         21.438326  27.777533   74.270705   \n",
       "Mallorca         33.242630  ...         19.458050  25.786848   72.617687   \n",
       "Osasuna          34.662971  ...         19.665188  27.117517   68.994900   \n",
       "Rayo Vallecano   33.939597  ...         20.261745  26.465324   70.468456   \n",
       "Real Madrid      49.796690  ...         37.463357  42.829787   84.840426   \n",
       "Real Sociedad    38.426966  ...         24.939326  30.952809   76.682921   \n",
       "Sevilla          43.328194  ...         30.488987  36.561674   79.613877   \n",
       "Valencia         30.026168  ...         16.001869  22.433645   68.238131   \n",
       "Villarreal       40.953125  ...         28.223214  34.109375   79.512723   \n",
       "\n",
       "                 progressive_passes    carries  progressive_carries  \\\n",
       "squad                                                                 \n",
       "Alavés                     1.330508  15.055085             1.411017   \n",
       "Athletic Club              2.312775  21.383260             2.572687   \n",
       "Atlético Madrid            2.094421  24.536481             2.793991   \n",
       "Barcelona                  2.843091  34.899297             3.918033   \n",
       "Betis                      2.174825  26.561772             2.778555   \n",
       "Celta Vigo                 1.967366  26.324009             2.906760   \n",
       "Cádiz                      1.365751  17.093023             1.792812   \n",
       "Elche                      1.496933  21.179959             2.063395   \n",
       "Espanyol                   1.486957  21.069565             2.141304   \n",
       "Getafe                     1.551797  18.211416             1.737844   \n",
       "Granada                    1.454343  17.634744             1.761693   \n",
       "Levante                    1.940529  21.011013             2.125551   \n",
       "Mallorca                   1.630385  19.680272             2.269841   \n",
       "Osasuna                    1.860310  18.809313             1.946785   \n",
       "Rayo Vallecano             1.845638  20.040268             2.261745   \n",
       "Real Madrid                2.886525  35.179669             4.174941   \n",
       "Real Sociedad              1.887640  24.761798             2.570787   \n",
       "Sevilla                    1.931718  29.246696             2.469163   \n",
       "Valencia                   1.714019  16.424299             1.884112   \n",
       "Villarreal                 2.466518  27.459821             2.966518   \n",
       "\n",
       "                 dribbles_completed  dribbles  goals_team  goals_rival  \n",
       "squad                                                                   \n",
       "Alavés                     0.427966  0.822034    0.796830     1.657061  \n",
       "Athletic Club              0.480176  0.925110    1.130293     0.969055  \n",
       "Atlético Madrid            0.521459  0.912017    1.811644     1.229452  \n",
       "Barcelona                  0.688525  1.182670    1.937500     1.083333  \n",
       "Betis                      0.610723  1.109557    1.794258     1.237640  \n",
       "Celta Vigo                 0.494172  0.902098    1.196078     1.135621  \n",
       "Cádiz                      0.395349  0.809725    0.865583     1.451994  \n",
       "Elche                      0.517382  0.983640    1.040462     1.391618  \n",
       "Espanyol                   0.532609  0.965217    1.213534     1.469173  \n",
       "Getafe                     0.429175  0.839323    0.955817     1.148748  \n",
       "Granada                    0.365256  0.721604    1.068536     1.605919  \n",
       "Levante                    0.500000  1.006608    1.079632     2.012251  \n",
       "Mallorca                   0.646259  1.077098    0.928571     1.714286  \n",
       "Osasuna                    0.403548  0.733925    1.001508     1.242836  \n",
       "Rayo Vallecano             0.521253  1.033557    1.051118     1.207668  \n",
       "Real Madrid                0.751773  1.349882    2.129870     0.746753  \n",
       "Real Sociedad              0.543820  1.042697    1.024631     1.039409  \n",
       "Sevilla                    0.515419  0.940529    1.444444     0.674074  \n",
       "Valencia                   0.506542  0.940187    1.453567     1.497981  \n",
       "Villarreal                 0.689732  1.183036    1.703937     0.960630  \n",
       "\n",
       "[20 rows x 29 columns]"
      ]
     },
     "execution_count": 69,
     "metadata": {},
     "output_type": "execute_result"
    }
   ],
   "source": [
    "data_liga.groupby(['squad']).mean()"
   ]
  },
  {
   "cell_type": "code",
   "execution_count": 99,
   "metadata": {},
   "outputs": [
    {
     "data": {
      "text/html": [
       "<div>\n",
       "<style scoped>\n",
       "    .dataframe tbody tr th:only-of-type {\n",
       "        vertical-align: middle;\n",
       "    }\n",
       "\n",
       "    .dataframe tbody tr th {\n",
       "        vertical-align: top;\n",
       "    }\n",
       "\n",
       "    .dataframe thead th {\n",
       "        text-align: right;\n",
       "    }\n",
       "</style>\n",
       "<table border=\"1\" class=\"dataframe\">\n",
       "  <thead>\n",
       "    <tr style=\"text-align: right;\">\n",
       "      <th></th>\n",
       "      <th></th>\n",
       "      <th>minutes</th>\n",
       "      <th>goals</th>\n",
       "      <th>assists</th>\n",
       "      <th>pens_made</th>\n",
       "      <th>pens_att</th>\n",
       "      <th>shots_total</th>\n",
       "      <th>shots_on_target</th>\n",
       "      <th>cards_yellow</th>\n",
       "      <th>cards_red</th>\n",
       "      <th>touches</th>\n",
       "      <th>...</th>\n",
       "      <th>passes_completed</th>\n",
       "      <th>passes</th>\n",
       "      <th>passes_pct</th>\n",
       "      <th>progressive_passes</th>\n",
       "      <th>carries</th>\n",
       "      <th>progressive_carries</th>\n",
       "      <th>dribbles_completed</th>\n",
       "      <th>dribbles</th>\n",
       "      <th>goals_team</th>\n",
       "      <th>goals_rival</th>\n",
       "    </tr>\n",
       "    <tr>\n",
       "      <th>squad</th>\n",
       "      <th>opponent</th>\n",
       "      <th></th>\n",
       "      <th></th>\n",
       "      <th></th>\n",
       "      <th></th>\n",
       "      <th></th>\n",
       "      <th></th>\n",
       "      <th></th>\n",
       "      <th></th>\n",
       "      <th></th>\n",
       "      <th></th>\n",
       "      <th></th>\n",
       "      <th></th>\n",
       "      <th></th>\n",
       "      <th></th>\n",
       "      <th></th>\n",
       "      <th></th>\n",
       "      <th></th>\n",
       "      <th></th>\n",
       "      <th></th>\n",
       "      <th></th>\n",
       "      <th></th>\n",
       "    </tr>\n",
       "  </thead>\n",
       "  <tbody>\n",
       "    <tr>\n",
       "      <th rowspan=\"5\" valign=\"top\">Alavés</th>\n",
       "      <th>Athletic Club</th>\n",
       "      <td>64.531250</td>\n",
       "      <td>0.000000</td>\n",
       "      <td>0.000000</td>\n",
       "      <td>0.0000</td>\n",
       "      <td>0.0000</td>\n",
       "      <td>0.968750</td>\n",
       "      <td>0.156250</td>\n",
       "      <td>0.125000</td>\n",
       "      <td>0.0</td>\n",
       "      <td>33.656250</td>\n",
       "      <td>...</td>\n",
       "      <td>17.531250</td>\n",
       "      <td>25.468750</td>\n",
       "      <td>65.690625</td>\n",
       "      <td>1.531250</td>\n",
       "      <td>17.718750</td>\n",
       "      <td>1.375000</td>\n",
       "      <td>0.468750</td>\n",
       "      <td>0.906250</td>\n",
       "      <td>0.00000</td>\n",
       "      <td>0.531250</td>\n",
       "    </tr>\n",
       "    <tr>\n",
       "      <th>Atlético Madrid</th>\n",
       "      <td>61.764706</td>\n",
       "      <td>0.058824</td>\n",
       "      <td>0.058824</td>\n",
       "      <td>0.0000</td>\n",
       "      <td>0.0000</td>\n",
       "      <td>0.411765</td>\n",
       "      <td>0.058824</td>\n",
       "      <td>0.176471</td>\n",
       "      <td>0.0</td>\n",
       "      <td>23.705882</td>\n",
       "      <td>...</td>\n",
       "      <td>10.235294</td>\n",
       "      <td>15.588235</td>\n",
       "      <td>65.852941</td>\n",
       "      <td>0.882353</td>\n",
       "      <td>10.352941</td>\n",
       "      <td>0.764706</td>\n",
       "      <td>0.588235</td>\n",
       "      <td>1.000000</td>\n",
       "      <td>1.00000</td>\n",
       "      <td>0.000000</td>\n",
       "    </tr>\n",
       "    <tr>\n",
       "      <th>Barcelona</th>\n",
       "      <td>65.031250</td>\n",
       "      <td>0.031250</td>\n",
       "      <td>0.031250</td>\n",
       "      <td>0.0000</td>\n",
       "      <td>0.0000</td>\n",
       "      <td>0.281250</td>\n",
       "      <td>0.125000</td>\n",
       "      <td>0.062500</td>\n",
       "      <td>0.0</td>\n",
       "      <td>23.406250</td>\n",
       "      <td>...</td>\n",
       "      <td>10.031250</td>\n",
       "      <td>15.750000</td>\n",
       "      <td>65.421875</td>\n",
       "      <td>1.000000</td>\n",
       "      <td>10.062500</td>\n",
       "      <td>1.187500</td>\n",
       "      <td>0.250000</td>\n",
       "      <td>0.906250</td>\n",
       "      <td>0.53125</td>\n",
       "      <td>1.000000</td>\n",
       "    </tr>\n",
       "    <tr>\n",
       "      <th>Betis</th>\n",
       "      <td>62.030303</td>\n",
       "      <td>0.000000</td>\n",
       "      <td>0.000000</td>\n",
       "      <td>0.0000</td>\n",
       "      <td>0.0000</td>\n",
       "      <td>0.696970</td>\n",
       "      <td>0.121212</td>\n",
       "      <td>0.030303</td>\n",
       "      <td>0.0</td>\n",
       "      <td>29.272727</td>\n",
       "      <td>...</td>\n",
       "      <td>15.333333</td>\n",
       "      <td>22.515152</td>\n",
       "      <td>70.190909</td>\n",
       "      <td>1.393939</td>\n",
       "      <td>13.969697</td>\n",
       "      <td>1.606061</td>\n",
       "      <td>0.454545</td>\n",
       "      <td>1.060606</td>\n",
       "      <td>0.00000</td>\n",
       "      <td>2.545455</td>\n",
       "    </tr>\n",
       "    <tr>\n",
       "      <th>Celta Vigo</th>\n",
       "      <td>58.411765</td>\n",
       "      <td>0.058824</td>\n",
       "      <td>0.058824</td>\n",
       "      <td>0.0000</td>\n",
       "      <td>0.0000</td>\n",
       "      <td>0.764706</td>\n",
       "      <td>0.294118</td>\n",
       "      <td>0.176471</td>\n",
       "      <td>0.0</td>\n",
       "      <td>31.882353</td>\n",
       "      <td>...</td>\n",
       "      <td>17.705882</td>\n",
       "      <td>25.117647</td>\n",
       "      <td>64.564706</td>\n",
       "      <td>1.647059</td>\n",
       "      <td>17.117647</td>\n",
       "      <td>1.764706</td>\n",
       "      <td>0.647059</td>\n",
       "      <td>0.823529</td>\n",
       "      <td>1.00000</td>\n",
       "      <td>2.000000</td>\n",
       "    </tr>\n",
       "    <tr>\n",
       "      <th>...</th>\n",
       "      <th>...</th>\n",
       "      <td>...</td>\n",
       "      <td>...</td>\n",
       "      <td>...</td>\n",
       "      <td>...</td>\n",
       "      <td>...</td>\n",
       "      <td>...</td>\n",
       "      <td>...</td>\n",
       "      <td>...</td>\n",
       "      <td>...</td>\n",
       "      <td>...</td>\n",
       "      <td>...</td>\n",
       "      <td>...</td>\n",
       "      <td>...</td>\n",
       "      <td>...</td>\n",
       "      <td>...</td>\n",
       "      <td>...</td>\n",
       "      <td>...</td>\n",
       "      <td>...</td>\n",
       "      <td>...</td>\n",
       "      <td>...</td>\n",
       "      <td>...</td>\n",
       "    </tr>\n",
       "    <tr>\n",
       "      <th rowspan=\"5\" valign=\"top\">Villarreal</th>\n",
       "      <th>Rayo Vallecano</th>\n",
       "      <td>61.875000</td>\n",
       "      <td>0.125000</td>\n",
       "      <td>0.062500</td>\n",
       "      <td>0.0625</td>\n",
       "      <td>0.0625</td>\n",
       "      <td>0.812500</td>\n",
       "      <td>0.250000</td>\n",
       "      <td>0.062500</td>\n",
       "      <td>0.0</td>\n",
       "      <td>35.562500</td>\n",
       "      <td>...</td>\n",
       "      <td>22.500000</td>\n",
       "      <td>28.437500</td>\n",
       "      <td>73.900000</td>\n",
       "      <td>2.062500</td>\n",
       "      <td>22.562500</td>\n",
       "      <td>2.187500</td>\n",
       "      <td>1.000000</td>\n",
       "      <td>1.625000</td>\n",
       "      <td>2.00000</td>\n",
       "      <td>0.000000</td>\n",
       "    </tr>\n",
       "    <tr>\n",
       "      <th>Real Madrid</th>\n",
       "      <td>61.875000</td>\n",
       "      <td>0.000000</td>\n",
       "      <td>0.000000</td>\n",
       "      <td>0.0000</td>\n",
       "      <td>0.0000</td>\n",
       "      <td>0.468750</td>\n",
       "      <td>0.125000</td>\n",
       "      <td>0.125000</td>\n",
       "      <td>0.0</td>\n",
       "      <td>40.000000</td>\n",
       "      <td>...</td>\n",
       "      <td>29.187500</td>\n",
       "      <td>34.062500</td>\n",
       "      <td>82.162500</td>\n",
       "      <td>2.312500</td>\n",
       "      <td>29.218750</td>\n",
       "      <td>3.093750</td>\n",
       "      <td>0.812500</td>\n",
       "      <td>1.281250</td>\n",
       "      <td>0.00000</td>\n",
       "      <td>0.000000</td>\n",
       "    </tr>\n",
       "    <tr>\n",
       "      <th>Real Sociedad</th>\n",
       "      <td>61.875000</td>\n",
       "      <td>0.187500</td>\n",
       "      <td>0.187500</td>\n",
       "      <td>0.0000</td>\n",
       "      <td>0.0000</td>\n",
       "      <td>1.000000</td>\n",
       "      <td>0.500000</td>\n",
       "      <td>0.187500</td>\n",
       "      <td>0.0</td>\n",
       "      <td>39.687500</td>\n",
       "      <td>...</td>\n",
       "      <td>25.562500</td>\n",
       "      <td>32.000000</td>\n",
       "      <td>80.556250</td>\n",
       "      <td>2.375000</td>\n",
       "      <td>25.375000</td>\n",
       "      <td>2.875000</td>\n",
       "      <td>0.687500</td>\n",
       "      <td>1.062500</td>\n",
       "      <td>3.00000</td>\n",
       "      <td>1.000000</td>\n",
       "    </tr>\n",
       "    <tr>\n",
       "      <th>Sevilla</th>\n",
       "      <td>61.875000</td>\n",
       "      <td>0.000000</td>\n",
       "      <td>0.000000</td>\n",
       "      <td>0.0000</td>\n",
       "      <td>0.0000</td>\n",
       "      <td>1.000000</td>\n",
       "      <td>0.125000</td>\n",
       "      <td>0.125000</td>\n",
       "      <td>0.0</td>\n",
       "      <td>39.000000</td>\n",
       "      <td>...</td>\n",
       "      <td>24.562500</td>\n",
       "      <td>31.687500</td>\n",
       "      <td>71.250000</td>\n",
       "      <td>2.562500</td>\n",
       "      <td>24.125000</td>\n",
       "      <td>3.625000</td>\n",
       "      <td>0.500000</td>\n",
       "      <td>0.750000</td>\n",
       "      <td>0.00000</td>\n",
       "      <td>1.000000</td>\n",
       "    </tr>\n",
       "    <tr>\n",
       "      <th>Valencia</th>\n",
       "      <td>61.875000</td>\n",
       "      <td>0.000000</td>\n",
       "      <td>0.000000</td>\n",
       "      <td>0.0000</td>\n",
       "      <td>0.0000</td>\n",
       "      <td>0.687500</td>\n",
       "      <td>0.062500</td>\n",
       "      <td>0.250000</td>\n",
       "      <td>0.0</td>\n",
       "      <td>44.187500</td>\n",
       "      <td>...</td>\n",
       "      <td>31.250000</td>\n",
       "      <td>37.812500</td>\n",
       "      <td>82.050000</td>\n",
       "      <td>2.875000</td>\n",
       "      <td>29.687500</td>\n",
       "      <td>3.437500</td>\n",
       "      <td>0.437500</td>\n",
       "      <td>1.125000</td>\n",
       "      <td>0.00000</td>\n",
       "      <td>2.000000</td>\n",
       "    </tr>\n",
       "  </tbody>\n",
       "</table>\n",
       "<p>380 rows × 29 columns</p>\n",
       "</div>"
      ],
      "text/plain": [
       "                              minutes     goals   assists  pens_made  \\\n",
       "squad      opponent                                                    \n",
       "Alavés     Athletic Club    64.531250  0.000000  0.000000     0.0000   \n",
       "           Atlético Madrid  61.764706  0.058824  0.058824     0.0000   \n",
       "           Barcelona        65.031250  0.031250  0.031250     0.0000   \n",
       "           Betis            62.030303  0.000000  0.000000     0.0000   \n",
       "           Celta Vigo       58.411765  0.058824  0.058824     0.0000   \n",
       "...                               ...       ...       ...        ...   \n",
       "Villarreal Rayo Vallecano   61.875000  0.125000  0.062500     0.0625   \n",
       "           Real Madrid      61.875000  0.000000  0.000000     0.0000   \n",
       "           Real Sociedad    61.875000  0.187500  0.187500     0.0000   \n",
       "           Sevilla          61.875000  0.000000  0.000000     0.0000   \n",
       "           Valencia         61.875000  0.000000  0.000000     0.0000   \n",
       "\n",
       "                            pens_att  shots_total  shots_on_target  \\\n",
       "squad      opponent                                                  \n",
       "Alavés     Athletic Club      0.0000     0.968750         0.156250   \n",
       "           Atlético Madrid    0.0000     0.411765         0.058824   \n",
       "           Barcelona          0.0000     0.281250         0.125000   \n",
       "           Betis              0.0000     0.696970         0.121212   \n",
       "           Celta Vigo         0.0000     0.764706         0.294118   \n",
       "...                              ...          ...              ...   \n",
       "Villarreal Rayo Vallecano     0.0625     0.812500         0.250000   \n",
       "           Real Madrid        0.0000     0.468750         0.125000   \n",
       "           Real Sociedad      0.0000     1.000000         0.500000   \n",
       "           Sevilla            0.0000     1.000000         0.125000   \n",
       "           Valencia           0.0000     0.687500         0.062500   \n",
       "\n",
       "                            cards_yellow  cards_red    touches  ...  \\\n",
       "squad      opponent                                             ...   \n",
       "Alavés     Athletic Club        0.125000        0.0  33.656250  ...   \n",
       "           Atlético Madrid      0.176471        0.0  23.705882  ...   \n",
       "           Barcelona            0.062500        0.0  23.406250  ...   \n",
       "           Betis                0.030303        0.0  29.272727  ...   \n",
       "           Celta Vigo           0.176471        0.0  31.882353  ...   \n",
       "...                                  ...        ...        ...  ...   \n",
       "Villarreal Rayo Vallecano       0.062500        0.0  35.562500  ...   \n",
       "           Real Madrid          0.125000        0.0  40.000000  ...   \n",
       "           Real Sociedad        0.187500        0.0  39.687500  ...   \n",
       "           Sevilla              0.125000        0.0  39.000000  ...   \n",
       "           Valencia             0.250000        0.0  44.187500  ...   \n",
       "\n",
       "                            passes_completed     passes  passes_pct  \\\n",
       "squad      opponent                                                   \n",
       "Alavés     Athletic Club           17.531250  25.468750   65.690625   \n",
       "           Atlético Madrid         10.235294  15.588235   65.852941   \n",
       "           Barcelona               10.031250  15.750000   65.421875   \n",
       "           Betis                   15.333333  22.515152   70.190909   \n",
       "           Celta Vigo              17.705882  25.117647   64.564706   \n",
       "...                                      ...        ...         ...   \n",
       "Villarreal Rayo Vallecano          22.500000  28.437500   73.900000   \n",
       "           Real Madrid             29.187500  34.062500   82.162500   \n",
       "           Real Sociedad           25.562500  32.000000   80.556250   \n",
       "           Sevilla                 24.562500  31.687500   71.250000   \n",
       "           Valencia                31.250000  37.812500   82.050000   \n",
       "\n",
       "                            progressive_passes    carries  \\\n",
       "squad      opponent                                         \n",
       "Alavés     Athletic Club              1.531250  17.718750   \n",
       "           Atlético Madrid            0.882353  10.352941   \n",
       "           Barcelona                  1.000000  10.062500   \n",
       "           Betis                      1.393939  13.969697   \n",
       "           Celta Vigo                 1.647059  17.117647   \n",
       "...                                        ...        ...   \n",
       "Villarreal Rayo Vallecano             2.062500  22.562500   \n",
       "           Real Madrid                2.312500  29.218750   \n",
       "           Real Sociedad              2.375000  25.375000   \n",
       "           Sevilla                    2.562500  24.125000   \n",
       "           Valencia                   2.875000  29.687500   \n",
       "\n",
       "                            progressive_carries  dribbles_completed  dribbles  \\\n",
       "squad      opponent                                                             \n",
       "Alavés     Athletic Club               1.375000            0.468750  0.906250   \n",
       "           Atlético Madrid             0.764706            0.588235  1.000000   \n",
       "           Barcelona                   1.187500            0.250000  0.906250   \n",
       "           Betis                       1.606061            0.454545  1.060606   \n",
       "           Celta Vigo                  1.764706            0.647059  0.823529   \n",
       "...                                         ...                 ...       ...   \n",
       "Villarreal Rayo Vallecano              2.187500            1.000000  1.625000   \n",
       "           Real Madrid                 3.093750            0.812500  1.281250   \n",
       "           Real Sociedad               2.875000            0.687500  1.062500   \n",
       "           Sevilla                     3.625000            0.500000  0.750000   \n",
       "           Valencia                    3.437500            0.437500  1.125000   \n",
       "\n",
       "                            goals_team  goals_rival  \n",
       "squad      opponent                                  \n",
       "Alavés     Athletic Club       0.00000     0.531250  \n",
       "           Atlético Madrid     1.00000     0.000000  \n",
       "           Barcelona           0.53125     1.000000  \n",
       "           Betis               0.00000     2.545455  \n",
       "           Celta Vigo          1.00000     2.000000  \n",
       "...                                ...          ...  \n",
       "Villarreal Rayo Vallecano      2.00000     0.000000  \n",
       "           Real Madrid         0.00000     0.000000  \n",
       "           Real Sociedad       3.00000     1.000000  \n",
       "           Sevilla             0.00000     1.000000  \n",
       "           Valencia            0.00000     2.000000  \n",
       "\n",
       "[380 rows x 29 columns]"
      ]
     },
     "execution_count": 99,
     "metadata": {},
     "output_type": "execute_result"
    }
   ],
   "source": [
    "data_liga[data_liga['minutes'].notna()].groupby(['squad', 'opponent']).mean()"
   ]
  },
  {
   "cell_type": "code",
   "execution_count": 98,
   "metadata": {},
   "outputs": [
    {
     "data": {
      "text/html": [
       "<div>\n",
       "<style scoped>\n",
       "    .dataframe tbody tr th:only-of-type {\n",
       "        vertical-align: middle;\n",
       "    }\n",
       "\n",
       "    .dataframe tbody tr th {\n",
       "        vertical-align: top;\n",
       "    }\n",
       "\n",
       "    .dataframe thead th {\n",
       "        text-align: right;\n",
       "    }\n",
       "</style>\n",
       "<table border=\"1\" class=\"dataframe\">\n",
       "  <thead>\n",
       "    <tr style=\"text-align: right;\">\n",
       "      <th></th>\n",
       "      <th>equipo</th>\n",
       "      <th>jugador</th>\n",
       "      <th>date</th>\n",
       "      <th>dayofweek</th>\n",
       "      <th>comp</th>\n",
       "      <th>round</th>\n",
       "      <th>venue</th>\n",
       "      <th>result</th>\n",
       "      <th>squad</th>\n",
       "      <th>opponent</th>\n",
       "      <th>...</th>\n",
       "      <th>passes</th>\n",
       "      <th>passes_pct</th>\n",
       "      <th>progressive_passes</th>\n",
       "      <th>carries</th>\n",
       "      <th>progressive_carries</th>\n",
       "      <th>dribbles_completed</th>\n",
       "      <th>dribbles</th>\n",
       "      <th>result_wdl</th>\n",
       "      <th>goals_team</th>\n",
       "      <th>goals_rival</th>\n",
       "    </tr>\n",
       "  </thead>\n",
       "  <tbody>\n",
       "    <tr>\n",
       "      <th>0</th>\n",
       "      <td>Alavés</td>\n",
       "      <td>Luis Rioja</td>\n",
       "      <td>2021-08-14</td>\n",
       "      <td>Sáb</td>\n",
       "      <td>La Liga</td>\n",
       "      <td>Semana 1 de partido</td>\n",
       "      <td>Local</td>\n",
       "      <td>D 1–4</td>\n",
       "      <td>Alavés</td>\n",
       "      <td>Real Madrid</td>\n",
       "      <td>...</td>\n",
       "      <td>16.0</td>\n",
       "      <td>75.0</td>\n",
       "      <td>0.0</td>\n",
       "      <td>20.0</td>\n",
       "      <td>4.0</td>\n",
       "      <td>1.0</td>\n",
       "      <td>1.0</td>\n",
       "      <td>D</td>\n",
       "      <td>1</td>\n",
       "      <td>4</td>\n",
       "    </tr>\n",
       "    <tr>\n",
       "      <th>1</th>\n",
       "      <td>Alavés</td>\n",
       "      <td>Luis Rioja</td>\n",
       "      <td>2021-08-21</td>\n",
       "      <td>Sáb</td>\n",
       "      <td>La Liga</td>\n",
       "      <td>Semana 2 de partido</td>\n",
       "      <td>Local</td>\n",
       "      <td>D 0–1</td>\n",
       "      <td>Alavés</td>\n",
       "      <td>Mallorca</td>\n",
       "      <td>...</td>\n",
       "      <td>25.0</td>\n",
       "      <td>48.0</td>\n",
       "      <td>0.0</td>\n",
       "      <td>27.0</td>\n",
       "      <td>8.0</td>\n",
       "      <td>2.0</td>\n",
       "      <td>3.0</td>\n",
       "      <td>D</td>\n",
       "      <td>0</td>\n",
       "      <td>1</td>\n",
       "    </tr>\n",
       "    <tr>\n",
       "      <th>2</th>\n",
       "      <td>Alavés</td>\n",
       "      <td>Luis Rioja</td>\n",
       "      <td>2021-08-27</td>\n",
       "      <td>Vie</td>\n",
       "      <td>La Liga</td>\n",
       "      <td>Semana 3 de partido</td>\n",
       "      <td>Visitante</td>\n",
       "      <td>D 0–3</td>\n",
       "      <td>Alavés</td>\n",
       "      <td>Valencia</td>\n",
       "      <td>...</td>\n",
       "      <td>22.0</td>\n",
       "      <td>68.2</td>\n",
       "      <td>2.0</td>\n",
       "      <td>22.0</td>\n",
       "      <td>4.0</td>\n",
       "      <td>2.0</td>\n",
       "      <td>4.0</td>\n",
       "      <td>D</td>\n",
       "      <td>0</td>\n",
       "      <td>3</td>\n",
       "    </tr>\n",
       "    <tr>\n",
       "      <th>3</th>\n",
       "      <td>Alavés</td>\n",
       "      <td>Luis Rioja</td>\n",
       "      <td>2021-09-18</td>\n",
       "      <td>Sáb</td>\n",
       "      <td>La Liga</td>\n",
       "      <td>Semana 5 de partido</td>\n",
       "      <td>Local</td>\n",
       "      <td>D 0–2</td>\n",
       "      <td>Alavés</td>\n",
       "      <td>Osasuna</td>\n",
       "      <td>...</td>\n",
       "      <td>37.0</td>\n",
       "      <td>51.4</td>\n",
       "      <td>1.0</td>\n",
       "      <td>36.0</td>\n",
       "      <td>3.0</td>\n",
       "      <td>2.0</td>\n",
       "      <td>6.0</td>\n",
       "      <td>D</td>\n",
       "      <td>0</td>\n",
       "      <td>2</td>\n",
       "    </tr>\n",
       "    <tr>\n",
       "      <th>4</th>\n",
       "      <td>Alavés</td>\n",
       "      <td>Luis Rioja</td>\n",
       "      <td>2021-09-22</td>\n",
       "      <td>Mié</td>\n",
       "      <td>La Liga</td>\n",
       "      <td>Semana 6 de partido</td>\n",
       "      <td>Visitante</td>\n",
       "      <td>D 0–1</td>\n",
       "      <td>Alavés</td>\n",
       "      <td>Espanyol</td>\n",
       "      <td>...</td>\n",
       "      <td>42.0</td>\n",
       "      <td>71.4</td>\n",
       "      <td>1.0</td>\n",
       "      <td>41.0</td>\n",
       "      <td>12.0</td>\n",
       "      <td>3.0</td>\n",
       "      <td>4.0</td>\n",
       "      <td>D</td>\n",
       "      <td>0</td>\n",
       "      <td>1</td>\n",
       "    </tr>\n",
       "    <tr>\n",
       "      <th>...</th>\n",
       "      <td>...</td>\n",
       "      <td>...</td>\n",
       "      <td>...</td>\n",
       "      <td>...</td>\n",
       "      <td>...</td>\n",
       "      <td>...</td>\n",
       "      <td>...</td>\n",
       "      <td>...</td>\n",
       "      <td>...</td>\n",
       "      <td>...</td>\n",
       "      <td>...</td>\n",
       "      <td>...</td>\n",
       "      <td>...</td>\n",
       "      <td>...</td>\n",
       "      <td>...</td>\n",
       "      <td>...</td>\n",
       "      <td>...</td>\n",
       "      <td>...</td>\n",
       "      <td>...</td>\n",
       "      <td>...</td>\n",
       "      <td>...</td>\n",
       "    </tr>\n",
       "    <tr>\n",
       "      <th>20422</th>\n",
       "      <td>Villarreal</td>\n",
       "      <td>Jorge Cuenca</td>\n",
       "      <td>2022-02-12</td>\n",
       "      <td>Sáb</td>\n",
       "      <td>La Liga</td>\n",
       "      <td>Semana 24 de partido</td>\n",
       "      <td>Visitante</td>\n",
       "      <td>D 3–4</td>\n",
       "      <td>Getafe</td>\n",
       "      <td>Atlético Madrid</td>\n",
       "      <td>...</td>\n",
       "      <td>48.0</td>\n",
       "      <td>72.9</td>\n",
       "      <td>1.0</td>\n",
       "      <td>34.0</td>\n",
       "      <td>2.0</td>\n",
       "      <td>0.0</td>\n",
       "      <td>0.0</td>\n",
       "      <td>D</td>\n",
       "      <td>3</td>\n",
       "      <td>4</td>\n",
       "    </tr>\n",
       "    <tr>\n",
       "      <th>20423</th>\n",
       "      <td>Villarreal</td>\n",
       "      <td>Jorge Cuenca</td>\n",
       "      <td>2022-02-19</td>\n",
       "      <td>Sáb</td>\n",
       "      <td>La Liga</td>\n",
       "      <td>Semana 25 de partido</td>\n",
       "      <td>Visitante</td>\n",
       "      <td>E 1–1</td>\n",
       "      <td>Getafe</td>\n",
       "      <td>Cádiz</td>\n",
       "      <td>...</td>\n",
       "      <td>27.0</td>\n",
       "      <td>59.3</td>\n",
       "      <td>3.0</td>\n",
       "      <td>18.0</td>\n",
       "      <td>1.0</td>\n",
       "      <td>0.0</td>\n",
       "      <td>0.0</td>\n",
       "      <td>E</td>\n",
       "      <td>1</td>\n",
       "      <td>1</td>\n",
       "    </tr>\n",
       "    <tr>\n",
       "      <th>20424</th>\n",
       "      <td>Villarreal</td>\n",
       "      <td>Jorge Cuenca</td>\n",
       "      <td>2022-02-26</td>\n",
       "      <td>Sáb</td>\n",
       "      <td>La Liga</td>\n",
       "      <td>Semana 26 de partido</td>\n",
       "      <td>Local</td>\n",
       "      <td>E 2–2</td>\n",
       "      <td>Getafe</td>\n",
       "      <td>Alavés</td>\n",
       "      <td>...</td>\n",
       "      <td>19.0</td>\n",
       "      <td>68.4</td>\n",
       "      <td>1.0</td>\n",
       "      <td>10.0</td>\n",
       "      <td>0.0</td>\n",
       "      <td>0.0</td>\n",
       "      <td>0.0</td>\n",
       "      <td>E</td>\n",
       "      <td>2</td>\n",
       "      <td>2</td>\n",
       "    </tr>\n",
       "    <tr>\n",
       "      <th>20426</th>\n",
       "      <td>Villarreal</td>\n",
       "      <td>Jorge Cuenca</td>\n",
       "      <td>2022-03-12</td>\n",
       "      <td>Sáb</td>\n",
       "      <td>La Liga</td>\n",
       "      <td>Semana 28 de partido</td>\n",
       "      <td>Local</td>\n",
       "      <td>E 0–0</td>\n",
       "      <td>Getafe</td>\n",
       "      <td>Valencia</td>\n",
       "      <td>...</td>\n",
       "      <td>44.0</td>\n",
       "      <td>63.6</td>\n",
       "      <td>6.0</td>\n",
       "      <td>25.0</td>\n",
       "      <td>1.0</td>\n",
       "      <td>0.0</td>\n",
       "      <td>0.0</td>\n",
       "      <td>E</td>\n",
       "      <td>0</td>\n",
       "      <td>0</td>\n",
       "    </tr>\n",
       "    <tr>\n",
       "      <th>20427</th>\n",
       "      <td>Villarreal</td>\n",
       "      <td>Jorge Cuenca</td>\n",
       "      <td>2022-03-18</td>\n",
       "      <td>Vie</td>\n",
       "      <td>La Liga</td>\n",
       "      <td>Semana 29 de partido</td>\n",
       "      <td>Visitante</td>\n",
       "      <td>E 1–1</td>\n",
       "      <td>Getafe</td>\n",
       "      <td>Athletic Club</td>\n",
       "      <td>...</td>\n",
       "      <td>19.0</td>\n",
       "      <td>52.6</td>\n",
       "      <td>1.0</td>\n",
       "      <td>13.0</td>\n",
       "      <td>1.0</td>\n",
       "      <td>1.0</td>\n",
       "      <td>1.0</td>\n",
       "      <td>E</td>\n",
       "      <td>1</td>\n",
       "      <td>1</td>\n",
       "    </tr>\n",
       "  </tbody>\n",
       "</table>\n",
       "<p>9119 rows × 42 columns</p>\n",
       "</div>"
      ],
      "text/plain": [
       "           equipo       jugador       date dayofweek     comp  \\\n",
       "0          Alavés    Luis Rioja 2021-08-14       Sáb  La Liga   \n",
       "1          Alavés    Luis Rioja 2021-08-21       Sáb  La Liga   \n",
       "2          Alavés    Luis Rioja 2021-08-27       Vie  La Liga   \n",
       "3          Alavés    Luis Rioja 2021-09-18       Sáb  La Liga   \n",
       "4          Alavés    Luis Rioja 2021-09-22       Mié  La Liga   \n",
       "...           ...           ...        ...       ...      ...   \n",
       "20422  Villarreal  Jorge Cuenca 2022-02-12       Sáb  La Liga   \n",
       "20423  Villarreal  Jorge Cuenca 2022-02-19       Sáb  La Liga   \n",
       "20424  Villarreal  Jorge Cuenca 2022-02-26       Sáb  La Liga   \n",
       "20426  Villarreal  Jorge Cuenca 2022-03-12       Sáb  La Liga   \n",
       "20427  Villarreal  Jorge Cuenca 2022-03-18       Vie  La Liga   \n",
       "\n",
       "                      round      venue result   squad         opponent  ...  \\\n",
       "0       Semana 1 de partido      Local  D 1–4  Alavés      Real Madrid  ...   \n",
       "1       Semana 2 de partido      Local  D 0–1  Alavés         Mallorca  ...   \n",
       "2       Semana 3 de partido  Visitante  D 0–3  Alavés         Valencia  ...   \n",
       "3       Semana 5 de partido      Local  D 0–2  Alavés          Osasuna  ...   \n",
       "4       Semana 6 de partido  Visitante  D 0–1  Alavés         Espanyol  ...   \n",
       "...                     ...        ...    ...     ...              ...  ...   \n",
       "20422  Semana 24 de partido  Visitante  D 3–4  Getafe  Atlético Madrid  ...   \n",
       "20423  Semana 25 de partido  Visitante  E 1–1  Getafe            Cádiz  ...   \n",
       "20424  Semana 26 de partido      Local  E 2–2  Getafe           Alavés  ...   \n",
       "20426  Semana 28 de partido      Local  E 0–0  Getafe         Valencia  ...   \n",
       "20427  Semana 29 de partido  Visitante  E 1–1  Getafe    Athletic Club  ...   \n",
       "\n",
       "      passes passes_pct  progressive_passes  carries  progressive_carries  \\\n",
       "0       16.0       75.0                 0.0     20.0                  4.0   \n",
       "1       25.0       48.0                 0.0     27.0                  8.0   \n",
       "2       22.0       68.2                 2.0     22.0                  4.0   \n",
       "3       37.0       51.4                 1.0     36.0                  3.0   \n",
       "4       42.0       71.4                 1.0     41.0                 12.0   \n",
       "...      ...        ...                 ...      ...                  ...   \n",
       "20422   48.0       72.9                 1.0     34.0                  2.0   \n",
       "20423   27.0       59.3                 3.0     18.0                  1.0   \n",
       "20424   19.0       68.4                 1.0     10.0                  0.0   \n",
       "20426   44.0       63.6                 6.0     25.0                  1.0   \n",
       "20427   19.0       52.6                 1.0     13.0                  1.0   \n",
       "\n",
       "       dribbles_completed  dribbles  result_wdl  goals_team  goals_rival  \n",
       "0                     1.0       1.0           D           1            4  \n",
       "1                     2.0       3.0           D           0            1  \n",
       "2                     2.0       4.0           D           0            3  \n",
       "3                     2.0       6.0           D           0            2  \n",
       "4                     3.0       4.0           D           0            1  \n",
       "...                   ...       ...         ...         ...          ...  \n",
       "20422                 0.0       0.0           D           3            4  \n",
       "20423                 0.0       0.0           E           1            1  \n",
       "20424                 0.0       0.0           E           2            2  \n",
       "20426                 0.0       0.0           E           0            0  \n",
       "20427                 1.0       1.0           E           1            1  \n",
       "\n",
       "[9119 rows x 42 columns]"
      ]
     },
     "execution_count": 98,
     "metadata": {},
     "output_type": "execute_result"
    }
   ],
   "source": [
    "data_liga[data_liga['minutes'].notna()]"
   ]
  },
  {
   "cell_type": "code",
   "execution_count": null,
   "metadata": {},
   "outputs": [],
   "source": []
  }
 ],
 "metadata": {
  "colab": {
   "name": "Tipologia_prac2.ipynb",
   "provenance": []
  },
  "kernelspec": {
   "display_name": "Python 3 (ipykernel)",
   "language": "python",
   "name": "python3"
  },
  "language_info": {
   "codemirror_mode": {
    "name": "ipython",
    "version": 3
   },
   "file_extension": ".py",
   "mimetype": "text/x-python",
   "name": "python",
   "nbconvert_exporter": "python",
   "pygments_lexer": "ipython3",
   "version": "3.9.12"
  }
 },
 "nbformat": 4,
 "nbformat_minor": 1
}
