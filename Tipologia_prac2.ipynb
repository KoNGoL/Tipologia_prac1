{
  "nbformat": 4,
  "nbformat_minor": 0,
  "metadata": {
    "colab": {
      "name": "Tipologia_prac2.ipynb",
      "provenance": []
    },
    "kernelspec": {
      "name": "python3",
      "display_name": "Python 3"
    },
    "language_info": {
      "name": "python"
    }
  },
  "cells": [
    {
      "cell_type": "markdown",
      "source": [
        "#1. Carga del conjunto de datos\n"
      ],
      "metadata": {
        "id": "HEenpPJrK-AV"
      }
    },
    {
      "cell_type": "code",
      "execution_count": 1,
      "metadata": {
        "id": "XypPk1bwKDmP"
      },
      "outputs": [],
      "source": [
        "# imports\n",
        "import numpy as np\n",
        "import seaborn as sns\n",
        "import matplotlib.pyplot as plt\n",
        "%matplotlib inline\n",
        "import pandas as pd\n"
      ]
    },
    {
      "cell_type": "code",
      "source": [
        "from google.colab import drive\n",
        "drive.mount('/content/drive')"
      ],
      "metadata": {
        "id": "6GdX-8q7GAN0",
        "outputId": "7cc8630b-a367-42bf-c9ce-682cf2829031",
        "colab": {
          "base_uri": "https://localhost:8080/"
        }
      },
      "execution_count": 3,
      "outputs": [
        {
          "output_type": "stream",
          "name": "stdout",
          "text": [
            "Mounted at /content/drive\n"
          ]
        }
      ]
    },
    {
      "cell_type": "code",
      "source": [
        "data = pd.read_csv(\"/content/drive/MyDrive/Tipologia/players_info.csv\", sep=\";\", quotechar = \"'\")\n",
        "data.head()"
      ],
      "metadata": {
        "colab": {
          "base_uri": "https://localhost:8080/",
          "height": 490
        },
        "id": "mOnSXLnRKzje",
        "outputId": "9156871f-46f5-4250-e031-453f79b44c17"
      },
      "execution_count": 63,
      "outputs": [
        {
          "output_type": "execute_result",
          "data": {
            "text/plain": [
              "   equipo     jugador        date dayofweek     comp                round  \\\n",
              "0  Alavés  Luis Rioja  2021-08-14       Sáb  La Liga  Semana 1 de partido   \n",
              "1  Alavés  Luis Rioja  2021-08-21       Sáb  La Liga  Semana 2 de partido   \n",
              "2  Alavés  Luis Rioja  2021-08-27       Vie  La Liga  Semana 3 de partido   \n",
              "3  Alavés  Luis Rioja  2021-09-18       Sáb  La Liga  Semana 5 de partido   \n",
              "4  Alavés  Luis Rioja  2021-09-22       Mié  La Liga  Semana 6 de partido   \n",
              "\n",
              "       venue result   squad     opponent  ... passes_completed passes  \\\n",
              "0      Local  D 1–4  Alavés  Real Madrid  ...             12.0   16.0   \n",
              "1      Local  D 0–1  Alavés     Mallorca  ...             12.0   25.0   \n",
              "2  Visitante  D 0–3  Alavés     Valencia  ...             15.0   22.0   \n",
              "3      Local  D 0–2  Alavés      Osasuna  ...             19.0   37.0   \n",
              "4  Visitante  D 0–1  Alavés     Espanyol  ...             30.0   42.0   \n",
              "\n",
              "   passes_pct  progressive_passes  carries  progressive_carries  \\\n",
              "0        75.0                 0.0     20.0                  4.0   \n",
              "1        48.0                 0.0     27.0                  8.0   \n",
              "2        68.2                 2.0     22.0                  4.0   \n",
              "3        51.4                 1.0     36.0                  3.0   \n",
              "4        71.4                 1.0     41.0                 12.0   \n",
              "\n",
              "   dribbles_completed  dribbles         match_report  Unnamed: 40  \n",
              "0                 1.0       1.0  Informe del partido          NaN  \n",
              "1                 2.0       3.0  Informe del partido          NaN  \n",
              "2                 2.0       4.0  Informe del partido          NaN  \n",
              "3                 2.0       6.0  Informe del partido          NaN  \n",
              "4                 3.0       4.0  Informe del partido          NaN  \n",
              "\n",
              "[5 rows x 41 columns]"
            ],
            "text/html": [
              "\n",
              "  <div id=\"df-6383e3f4-6cfe-4e77-b6d7-1f31af89553b\">\n",
              "    <div class=\"colab-df-container\">\n",
              "      <div>\n",
              "<style scoped>\n",
              "    .dataframe tbody tr th:only-of-type {\n",
              "        vertical-align: middle;\n",
              "    }\n",
              "\n",
              "    .dataframe tbody tr th {\n",
              "        vertical-align: top;\n",
              "    }\n",
              "\n",
              "    .dataframe thead th {\n",
              "        text-align: right;\n",
              "    }\n",
              "</style>\n",
              "<table border=\"1\" class=\"dataframe\">\n",
              "  <thead>\n",
              "    <tr style=\"text-align: right;\">\n",
              "      <th></th>\n",
              "      <th>equipo</th>\n",
              "      <th>jugador</th>\n",
              "      <th>date</th>\n",
              "      <th>dayofweek</th>\n",
              "      <th>comp</th>\n",
              "      <th>round</th>\n",
              "      <th>venue</th>\n",
              "      <th>result</th>\n",
              "      <th>squad</th>\n",
              "      <th>opponent</th>\n",
              "      <th>...</th>\n",
              "      <th>passes_completed</th>\n",
              "      <th>passes</th>\n",
              "      <th>passes_pct</th>\n",
              "      <th>progressive_passes</th>\n",
              "      <th>carries</th>\n",
              "      <th>progressive_carries</th>\n",
              "      <th>dribbles_completed</th>\n",
              "      <th>dribbles</th>\n",
              "      <th>match_report</th>\n",
              "      <th>Unnamed: 40</th>\n",
              "    </tr>\n",
              "  </thead>\n",
              "  <tbody>\n",
              "    <tr>\n",
              "      <th>0</th>\n",
              "      <td>Alavés</td>\n",
              "      <td>Luis Rioja</td>\n",
              "      <td>2021-08-14</td>\n",
              "      <td>Sáb</td>\n",
              "      <td>La Liga</td>\n",
              "      <td>Semana 1 de partido</td>\n",
              "      <td>Local</td>\n",
              "      <td>D 1–4</td>\n",
              "      <td>Alavés</td>\n",
              "      <td>Real Madrid</td>\n",
              "      <td>...</td>\n",
              "      <td>12.0</td>\n",
              "      <td>16.0</td>\n",
              "      <td>75.0</td>\n",
              "      <td>0.0</td>\n",
              "      <td>20.0</td>\n",
              "      <td>4.0</td>\n",
              "      <td>1.0</td>\n",
              "      <td>1.0</td>\n",
              "      <td>Informe del partido</td>\n",
              "      <td>NaN</td>\n",
              "    </tr>\n",
              "    <tr>\n",
              "      <th>1</th>\n",
              "      <td>Alavés</td>\n",
              "      <td>Luis Rioja</td>\n",
              "      <td>2021-08-21</td>\n",
              "      <td>Sáb</td>\n",
              "      <td>La Liga</td>\n",
              "      <td>Semana 2 de partido</td>\n",
              "      <td>Local</td>\n",
              "      <td>D 0–1</td>\n",
              "      <td>Alavés</td>\n",
              "      <td>Mallorca</td>\n",
              "      <td>...</td>\n",
              "      <td>12.0</td>\n",
              "      <td>25.0</td>\n",
              "      <td>48.0</td>\n",
              "      <td>0.0</td>\n",
              "      <td>27.0</td>\n",
              "      <td>8.0</td>\n",
              "      <td>2.0</td>\n",
              "      <td>3.0</td>\n",
              "      <td>Informe del partido</td>\n",
              "      <td>NaN</td>\n",
              "    </tr>\n",
              "    <tr>\n",
              "      <th>2</th>\n",
              "      <td>Alavés</td>\n",
              "      <td>Luis Rioja</td>\n",
              "      <td>2021-08-27</td>\n",
              "      <td>Vie</td>\n",
              "      <td>La Liga</td>\n",
              "      <td>Semana 3 de partido</td>\n",
              "      <td>Visitante</td>\n",
              "      <td>D 0–3</td>\n",
              "      <td>Alavés</td>\n",
              "      <td>Valencia</td>\n",
              "      <td>...</td>\n",
              "      <td>15.0</td>\n",
              "      <td>22.0</td>\n",
              "      <td>68.2</td>\n",
              "      <td>2.0</td>\n",
              "      <td>22.0</td>\n",
              "      <td>4.0</td>\n",
              "      <td>2.0</td>\n",
              "      <td>4.0</td>\n",
              "      <td>Informe del partido</td>\n",
              "      <td>NaN</td>\n",
              "    </tr>\n",
              "    <tr>\n",
              "      <th>3</th>\n",
              "      <td>Alavés</td>\n",
              "      <td>Luis Rioja</td>\n",
              "      <td>2021-09-18</td>\n",
              "      <td>Sáb</td>\n",
              "      <td>La Liga</td>\n",
              "      <td>Semana 5 de partido</td>\n",
              "      <td>Local</td>\n",
              "      <td>D 0–2</td>\n",
              "      <td>Alavés</td>\n",
              "      <td>Osasuna</td>\n",
              "      <td>...</td>\n",
              "      <td>19.0</td>\n",
              "      <td>37.0</td>\n",
              "      <td>51.4</td>\n",
              "      <td>1.0</td>\n",
              "      <td>36.0</td>\n",
              "      <td>3.0</td>\n",
              "      <td>2.0</td>\n",
              "      <td>6.0</td>\n",
              "      <td>Informe del partido</td>\n",
              "      <td>NaN</td>\n",
              "    </tr>\n",
              "    <tr>\n",
              "      <th>4</th>\n",
              "      <td>Alavés</td>\n",
              "      <td>Luis Rioja</td>\n",
              "      <td>2021-09-22</td>\n",
              "      <td>Mié</td>\n",
              "      <td>La Liga</td>\n",
              "      <td>Semana 6 de partido</td>\n",
              "      <td>Visitante</td>\n",
              "      <td>D 0–1</td>\n",
              "      <td>Alavés</td>\n",
              "      <td>Espanyol</td>\n",
              "      <td>...</td>\n",
              "      <td>30.0</td>\n",
              "      <td>42.0</td>\n",
              "      <td>71.4</td>\n",
              "      <td>1.0</td>\n",
              "      <td>41.0</td>\n",
              "      <td>12.0</td>\n",
              "      <td>3.0</td>\n",
              "      <td>4.0</td>\n",
              "      <td>Informe del partido</td>\n",
              "      <td>NaN</td>\n",
              "    </tr>\n",
              "  </tbody>\n",
              "</table>\n",
              "<p>5 rows × 41 columns</p>\n",
              "</div>\n",
              "      <button class=\"colab-df-convert\" onclick=\"convertToInteractive('df-6383e3f4-6cfe-4e77-b6d7-1f31af89553b')\"\n",
              "              title=\"Convert this dataframe to an interactive table.\"\n",
              "              style=\"display:none;\">\n",
              "        \n",
              "  <svg xmlns=\"http://www.w3.org/2000/svg\" height=\"24px\"viewBox=\"0 0 24 24\"\n",
              "       width=\"24px\">\n",
              "    <path d=\"M0 0h24v24H0V0z\" fill=\"none\"/>\n",
              "    <path d=\"M18.56 5.44l.94 2.06.94-2.06 2.06-.94-2.06-.94-.94-2.06-.94 2.06-2.06.94zm-11 1L8.5 8.5l.94-2.06 2.06-.94-2.06-.94L8.5 2.5l-.94 2.06-2.06.94zm10 10l.94 2.06.94-2.06 2.06-.94-2.06-.94-.94-2.06-.94 2.06-2.06.94z\"/><path d=\"M17.41 7.96l-1.37-1.37c-.4-.4-.92-.59-1.43-.59-.52 0-1.04.2-1.43.59L10.3 9.45l-7.72 7.72c-.78.78-.78 2.05 0 2.83L4 21.41c.39.39.9.59 1.41.59.51 0 1.02-.2 1.41-.59l7.78-7.78 2.81-2.81c.8-.78.8-2.07 0-2.86zM5.41 20L4 18.59l7.72-7.72 1.47 1.35L5.41 20z\"/>\n",
              "  </svg>\n",
              "      </button>\n",
              "      \n",
              "  <style>\n",
              "    .colab-df-container {\n",
              "      display:flex;\n",
              "      flex-wrap:wrap;\n",
              "      gap: 12px;\n",
              "    }\n",
              "\n",
              "    .colab-df-convert {\n",
              "      background-color: #E8F0FE;\n",
              "      border: none;\n",
              "      border-radius: 50%;\n",
              "      cursor: pointer;\n",
              "      display: none;\n",
              "      fill: #1967D2;\n",
              "      height: 32px;\n",
              "      padding: 0 0 0 0;\n",
              "      width: 32px;\n",
              "    }\n",
              "\n",
              "    .colab-df-convert:hover {\n",
              "      background-color: #E2EBFA;\n",
              "      box-shadow: 0px 1px 2px rgba(60, 64, 67, 0.3), 0px 1px 3px 1px rgba(60, 64, 67, 0.15);\n",
              "      fill: #174EA6;\n",
              "    }\n",
              "\n",
              "    [theme=dark] .colab-df-convert {\n",
              "      background-color: #3B4455;\n",
              "      fill: #D2E3FC;\n",
              "    }\n",
              "\n",
              "    [theme=dark] .colab-df-convert:hover {\n",
              "      background-color: #434B5C;\n",
              "      box-shadow: 0px 1px 3px 1px rgba(0, 0, 0, 0.15);\n",
              "      filter: drop-shadow(0px 1px 2px rgba(0, 0, 0, 0.3));\n",
              "      fill: #FFFFFF;\n",
              "    }\n",
              "  </style>\n",
              "\n",
              "      <script>\n",
              "        const buttonEl =\n",
              "          document.querySelector('#df-6383e3f4-6cfe-4e77-b6d7-1f31af89553b button.colab-df-convert');\n",
              "        buttonEl.style.display =\n",
              "          google.colab.kernel.accessAllowed ? 'block' : 'none';\n",
              "\n",
              "        async function convertToInteractive(key) {\n",
              "          const element = document.querySelector('#df-6383e3f4-6cfe-4e77-b6d7-1f31af89553b');\n",
              "          const dataTable =\n",
              "            await google.colab.kernel.invokeFunction('convertToInteractive',\n",
              "                                                     [key], {});\n",
              "          if (!dataTable) return;\n",
              "\n",
              "          const docLinkHtml = 'Like what you see? Visit the ' +\n",
              "            '<a target=\"_blank\" href=https://colab.research.google.com/notebooks/data_table.ipynb>data table notebook</a>'\n",
              "            + ' to learn more about interactive tables.';\n",
              "          element.innerHTML = '';\n",
              "          dataTable['output_type'] = 'display_data';\n",
              "          await google.colab.output.renderOutput(dataTable, element);\n",
              "          const docLink = document.createElement('div');\n",
              "          docLink.innerHTML = docLinkHtml;\n",
              "          element.appendChild(docLink);\n",
              "        }\n",
              "      </script>\n",
              "    </div>\n",
              "  </div>\n",
              "  "
            ]
          },
          "metadata": {},
          "execution_count": 63
        }
      ]
    },
    {
      "cell_type": "markdown",
      "source": [
        "#2. Descripcion del Dataset"
      ],
      "metadata": {
        "id": "uy_d6QoJPIyl"
      }
    },
    {
      "cell_type": "code",
      "source": [
        "print(\"Disponemos de {} variables con un total de {} muestras\\nLos nombres de las variables son: {}\"\n",
        "      .format(len(data.columns), len(data), data.columns))\n",
        "data.describe()"
      ],
      "metadata": {
        "colab": {
          "base_uri": "https://localhost:8080/",
          "height": 585
        },
        "id": "h2L9gVDmPM32",
        "outputId": "915fbdb5-44b3-4829-cc58-24cdf3485efe"
      },
      "execution_count": 5,
      "outputs": [
        {
          "output_type": "stream",
          "name": "stdout",
          "text": [
            "Disponemos de 41 variables con un total de 20460 muestras\n",
            "Los nombres de las variables son: Index(['equipo', 'jugador', 'date', 'dayofweek', 'comp', 'round', 'venue',\n",
            "       'result', 'squad', 'opponent', 'game_started', 'position', 'minutes',\n",
            "       'goals', 'assists', 'pens_made', 'pens_att', 'shots_total',\n",
            "       'shots_on_target', 'cards_yellow', 'cards_red', 'touches', 'pressures',\n",
            "       'tackles', 'interceptions', 'blocks', 'xg', 'npxg', 'xa', 'sca', 'gca',\n",
            "       'passes_completed', 'passes', 'passes_pct', 'progressive_passes',\n",
            "       'carries', 'progressive_carries', 'dribbles_completed', 'dribbles',\n",
            "       'match_report', 'Unnamed: 40'],\n",
            "      dtype='object')\n"
          ]
        },
        {
          "output_type": "execute_result",
          "data": {
            "text/plain": [
              "            minutes         goals       assists     pens_made      pens_att  \\\n",
              "count  13639.000000  13661.000000  13627.000000  13661.000000  13661.000000   \n",
              "mean      64.447174      0.090916      0.059661      0.009443      0.012005   \n",
              "std       30.928286      0.325703      0.254491      0.101158      0.113519   \n",
              "min        1.000000      0.000000      0.000000      0.000000      0.000000   \n",
              "25%       35.000000      0.000000      0.000000      0.000000      0.000000   \n",
              "50%       79.000000      0.000000      0.000000      0.000000      0.000000   \n",
              "75%       90.000000      0.000000      0.000000      0.000000      0.000000   \n",
              "max      120.000000      4.000000      2.000000      2.000000      2.000000   \n",
              "\n",
              "        shots_total  shots_on_target  cards_yellow     cards_red  \\\n",
              "count  13320.000000     13320.000000  13661.000000  13661.000000   \n",
              "mean       0.802703         0.265541      0.155040      0.007906   \n",
              "std        1.169523         0.597174      0.370946      0.088565   \n",
              "min        0.000000         0.000000      0.000000      0.000000   \n",
              "25%        0.000000         0.000000      0.000000      0.000000   \n",
              "50%        0.000000         0.000000      0.000000      0.000000   \n",
              "75%        1.000000         0.000000      0.000000      0.000000   \n",
              "max       10.000000         6.000000      2.000000      1.000000   \n",
              "\n",
              "            touches  ...           gca  passes_completed        passes  \\\n",
              "count  10415.000000  ...  10415.000000      10415.000000  10415.000000   \n",
              "mean      37.713010  ...      0.128757         23.976476     30.346135   \n",
              "std       24.038665  ...      0.395424         19.079643     21.709858   \n",
              "min        0.000000  ...      0.000000          0.000000      0.000000   \n",
              "25%       18.000000  ...      0.000000          9.000000     13.000000   \n",
              "50%       36.000000  ...      0.000000         20.000000     27.000000   \n",
              "75%       53.500000  ...      0.000000         34.000000     43.000000   \n",
              "max      161.000000  ...      4.000000        143.000000    150.000000   \n",
              "\n",
              "         passes_pct  progressive_passes       carries  progressive_carries  \\\n",
              "count  10313.000000        10415.000000  10415.000000         10415.000000   \n",
              "mean      75.760070            1.937302     23.419683             2.495727   \n",
              "std       16.370852            2.301586     17.132737             2.942826   \n",
              "min        0.000000            0.000000      0.000000             0.000000   \n",
              "25%       66.700000            0.000000     10.000000             0.000000   \n",
              "50%       78.300000            1.000000     20.000000             2.000000   \n",
              "75%       86.700000            3.000000     33.000000             4.000000   \n",
              "max      100.000000           22.000000    133.000000            32.000000   \n",
              "\n",
              "       dribbles_completed      dribbles  Unnamed: 40  \n",
              "count        10415.000000  10415.000000          0.0  \n",
              "mean             0.540663      0.998656          NaN  \n",
              "std              0.970396      1.510922          NaN  \n",
              "min              0.000000      0.000000          NaN  \n",
              "25%              0.000000      0.000000          NaN  \n",
              "50%              0.000000      0.000000          NaN  \n",
              "75%              1.000000      1.000000          NaN  \n",
              "max             10.000000     17.000000          NaN  \n",
              "\n",
              "[8 rows x 28 columns]"
            ],
            "text/html": [
              "\n",
              "  <div id=\"df-9faed7d9-ce84-40cd-a89f-15d089e8baa4\">\n",
              "    <div class=\"colab-df-container\">\n",
              "      <div>\n",
              "<style scoped>\n",
              "    .dataframe tbody tr th:only-of-type {\n",
              "        vertical-align: middle;\n",
              "    }\n",
              "\n",
              "    .dataframe tbody tr th {\n",
              "        vertical-align: top;\n",
              "    }\n",
              "\n",
              "    .dataframe thead th {\n",
              "        text-align: right;\n",
              "    }\n",
              "</style>\n",
              "<table border=\"1\" class=\"dataframe\">\n",
              "  <thead>\n",
              "    <tr style=\"text-align: right;\">\n",
              "      <th></th>\n",
              "      <th>minutes</th>\n",
              "      <th>goals</th>\n",
              "      <th>assists</th>\n",
              "      <th>pens_made</th>\n",
              "      <th>pens_att</th>\n",
              "      <th>shots_total</th>\n",
              "      <th>shots_on_target</th>\n",
              "      <th>cards_yellow</th>\n",
              "      <th>cards_red</th>\n",
              "      <th>touches</th>\n",
              "      <th>...</th>\n",
              "      <th>gca</th>\n",
              "      <th>passes_completed</th>\n",
              "      <th>passes</th>\n",
              "      <th>passes_pct</th>\n",
              "      <th>progressive_passes</th>\n",
              "      <th>carries</th>\n",
              "      <th>progressive_carries</th>\n",
              "      <th>dribbles_completed</th>\n",
              "      <th>dribbles</th>\n",
              "      <th>Unnamed: 40</th>\n",
              "    </tr>\n",
              "  </thead>\n",
              "  <tbody>\n",
              "    <tr>\n",
              "      <th>count</th>\n",
              "      <td>13639.000000</td>\n",
              "      <td>13661.000000</td>\n",
              "      <td>13627.000000</td>\n",
              "      <td>13661.000000</td>\n",
              "      <td>13661.000000</td>\n",
              "      <td>13320.000000</td>\n",
              "      <td>13320.000000</td>\n",
              "      <td>13661.000000</td>\n",
              "      <td>13661.000000</td>\n",
              "      <td>10415.000000</td>\n",
              "      <td>...</td>\n",
              "      <td>10415.000000</td>\n",
              "      <td>10415.000000</td>\n",
              "      <td>10415.000000</td>\n",
              "      <td>10313.000000</td>\n",
              "      <td>10415.000000</td>\n",
              "      <td>10415.000000</td>\n",
              "      <td>10415.000000</td>\n",
              "      <td>10415.000000</td>\n",
              "      <td>10415.000000</td>\n",
              "      <td>0.0</td>\n",
              "    </tr>\n",
              "    <tr>\n",
              "      <th>mean</th>\n",
              "      <td>64.447174</td>\n",
              "      <td>0.090916</td>\n",
              "      <td>0.059661</td>\n",
              "      <td>0.009443</td>\n",
              "      <td>0.012005</td>\n",
              "      <td>0.802703</td>\n",
              "      <td>0.265541</td>\n",
              "      <td>0.155040</td>\n",
              "      <td>0.007906</td>\n",
              "      <td>37.713010</td>\n",
              "      <td>...</td>\n",
              "      <td>0.128757</td>\n",
              "      <td>23.976476</td>\n",
              "      <td>30.346135</td>\n",
              "      <td>75.760070</td>\n",
              "      <td>1.937302</td>\n",
              "      <td>23.419683</td>\n",
              "      <td>2.495727</td>\n",
              "      <td>0.540663</td>\n",
              "      <td>0.998656</td>\n",
              "      <td>NaN</td>\n",
              "    </tr>\n",
              "    <tr>\n",
              "      <th>std</th>\n",
              "      <td>30.928286</td>\n",
              "      <td>0.325703</td>\n",
              "      <td>0.254491</td>\n",
              "      <td>0.101158</td>\n",
              "      <td>0.113519</td>\n",
              "      <td>1.169523</td>\n",
              "      <td>0.597174</td>\n",
              "      <td>0.370946</td>\n",
              "      <td>0.088565</td>\n",
              "      <td>24.038665</td>\n",
              "      <td>...</td>\n",
              "      <td>0.395424</td>\n",
              "      <td>19.079643</td>\n",
              "      <td>21.709858</td>\n",
              "      <td>16.370852</td>\n",
              "      <td>2.301586</td>\n",
              "      <td>17.132737</td>\n",
              "      <td>2.942826</td>\n",
              "      <td>0.970396</td>\n",
              "      <td>1.510922</td>\n",
              "      <td>NaN</td>\n",
              "    </tr>\n",
              "    <tr>\n",
              "      <th>min</th>\n",
              "      <td>1.000000</td>\n",
              "      <td>0.000000</td>\n",
              "      <td>0.000000</td>\n",
              "      <td>0.000000</td>\n",
              "      <td>0.000000</td>\n",
              "      <td>0.000000</td>\n",
              "      <td>0.000000</td>\n",
              "      <td>0.000000</td>\n",
              "      <td>0.000000</td>\n",
              "      <td>0.000000</td>\n",
              "      <td>...</td>\n",
              "      <td>0.000000</td>\n",
              "      <td>0.000000</td>\n",
              "      <td>0.000000</td>\n",
              "      <td>0.000000</td>\n",
              "      <td>0.000000</td>\n",
              "      <td>0.000000</td>\n",
              "      <td>0.000000</td>\n",
              "      <td>0.000000</td>\n",
              "      <td>0.000000</td>\n",
              "      <td>NaN</td>\n",
              "    </tr>\n",
              "    <tr>\n",
              "      <th>25%</th>\n",
              "      <td>35.000000</td>\n",
              "      <td>0.000000</td>\n",
              "      <td>0.000000</td>\n",
              "      <td>0.000000</td>\n",
              "      <td>0.000000</td>\n",
              "      <td>0.000000</td>\n",
              "      <td>0.000000</td>\n",
              "      <td>0.000000</td>\n",
              "      <td>0.000000</td>\n",
              "      <td>18.000000</td>\n",
              "      <td>...</td>\n",
              "      <td>0.000000</td>\n",
              "      <td>9.000000</td>\n",
              "      <td>13.000000</td>\n",
              "      <td>66.700000</td>\n",
              "      <td>0.000000</td>\n",
              "      <td>10.000000</td>\n",
              "      <td>0.000000</td>\n",
              "      <td>0.000000</td>\n",
              "      <td>0.000000</td>\n",
              "      <td>NaN</td>\n",
              "    </tr>\n",
              "    <tr>\n",
              "      <th>50%</th>\n",
              "      <td>79.000000</td>\n",
              "      <td>0.000000</td>\n",
              "      <td>0.000000</td>\n",
              "      <td>0.000000</td>\n",
              "      <td>0.000000</td>\n",
              "      <td>0.000000</td>\n",
              "      <td>0.000000</td>\n",
              "      <td>0.000000</td>\n",
              "      <td>0.000000</td>\n",
              "      <td>36.000000</td>\n",
              "      <td>...</td>\n",
              "      <td>0.000000</td>\n",
              "      <td>20.000000</td>\n",
              "      <td>27.000000</td>\n",
              "      <td>78.300000</td>\n",
              "      <td>1.000000</td>\n",
              "      <td>20.000000</td>\n",
              "      <td>2.000000</td>\n",
              "      <td>0.000000</td>\n",
              "      <td>0.000000</td>\n",
              "      <td>NaN</td>\n",
              "    </tr>\n",
              "    <tr>\n",
              "      <th>75%</th>\n",
              "      <td>90.000000</td>\n",
              "      <td>0.000000</td>\n",
              "      <td>0.000000</td>\n",
              "      <td>0.000000</td>\n",
              "      <td>0.000000</td>\n",
              "      <td>1.000000</td>\n",
              "      <td>0.000000</td>\n",
              "      <td>0.000000</td>\n",
              "      <td>0.000000</td>\n",
              "      <td>53.500000</td>\n",
              "      <td>...</td>\n",
              "      <td>0.000000</td>\n",
              "      <td>34.000000</td>\n",
              "      <td>43.000000</td>\n",
              "      <td>86.700000</td>\n",
              "      <td>3.000000</td>\n",
              "      <td>33.000000</td>\n",
              "      <td>4.000000</td>\n",
              "      <td>1.000000</td>\n",
              "      <td>1.000000</td>\n",
              "      <td>NaN</td>\n",
              "    </tr>\n",
              "    <tr>\n",
              "      <th>max</th>\n",
              "      <td>120.000000</td>\n",
              "      <td>4.000000</td>\n",
              "      <td>2.000000</td>\n",
              "      <td>2.000000</td>\n",
              "      <td>2.000000</td>\n",
              "      <td>10.000000</td>\n",
              "      <td>6.000000</td>\n",
              "      <td>2.000000</td>\n",
              "      <td>1.000000</td>\n",
              "      <td>161.000000</td>\n",
              "      <td>...</td>\n",
              "      <td>4.000000</td>\n",
              "      <td>143.000000</td>\n",
              "      <td>150.000000</td>\n",
              "      <td>100.000000</td>\n",
              "      <td>22.000000</td>\n",
              "      <td>133.000000</td>\n",
              "      <td>32.000000</td>\n",
              "      <td>10.000000</td>\n",
              "      <td>17.000000</td>\n",
              "      <td>NaN</td>\n",
              "    </tr>\n",
              "  </tbody>\n",
              "</table>\n",
              "<p>8 rows × 28 columns</p>\n",
              "</div>\n",
              "      <button class=\"colab-df-convert\" onclick=\"convertToInteractive('df-9faed7d9-ce84-40cd-a89f-15d089e8baa4')\"\n",
              "              title=\"Convert this dataframe to an interactive table.\"\n",
              "              style=\"display:none;\">\n",
              "        \n",
              "  <svg xmlns=\"http://www.w3.org/2000/svg\" height=\"24px\"viewBox=\"0 0 24 24\"\n",
              "       width=\"24px\">\n",
              "    <path d=\"M0 0h24v24H0V0z\" fill=\"none\"/>\n",
              "    <path d=\"M18.56 5.44l.94 2.06.94-2.06 2.06-.94-2.06-.94-.94-2.06-.94 2.06-2.06.94zm-11 1L8.5 8.5l.94-2.06 2.06-.94-2.06-.94L8.5 2.5l-.94 2.06-2.06.94zm10 10l.94 2.06.94-2.06 2.06-.94-2.06-.94-.94-2.06-.94 2.06-2.06.94z\"/><path d=\"M17.41 7.96l-1.37-1.37c-.4-.4-.92-.59-1.43-.59-.52 0-1.04.2-1.43.59L10.3 9.45l-7.72 7.72c-.78.78-.78 2.05 0 2.83L4 21.41c.39.39.9.59 1.41.59.51 0 1.02-.2 1.41-.59l7.78-7.78 2.81-2.81c.8-.78.8-2.07 0-2.86zM5.41 20L4 18.59l7.72-7.72 1.47 1.35L5.41 20z\"/>\n",
              "  </svg>\n",
              "      </button>\n",
              "      \n",
              "  <style>\n",
              "    .colab-df-container {\n",
              "      display:flex;\n",
              "      flex-wrap:wrap;\n",
              "      gap: 12px;\n",
              "    }\n",
              "\n",
              "    .colab-df-convert {\n",
              "      background-color: #E8F0FE;\n",
              "      border: none;\n",
              "      border-radius: 50%;\n",
              "      cursor: pointer;\n",
              "      display: none;\n",
              "      fill: #1967D2;\n",
              "      height: 32px;\n",
              "      padding: 0 0 0 0;\n",
              "      width: 32px;\n",
              "    }\n",
              "\n",
              "    .colab-df-convert:hover {\n",
              "      background-color: #E2EBFA;\n",
              "      box-shadow: 0px 1px 2px rgba(60, 64, 67, 0.3), 0px 1px 3px 1px rgba(60, 64, 67, 0.15);\n",
              "      fill: #174EA6;\n",
              "    }\n",
              "\n",
              "    [theme=dark] .colab-df-convert {\n",
              "      background-color: #3B4455;\n",
              "      fill: #D2E3FC;\n",
              "    }\n",
              "\n",
              "    [theme=dark] .colab-df-convert:hover {\n",
              "      background-color: #434B5C;\n",
              "      box-shadow: 0px 1px 3px 1px rgba(0, 0, 0, 0.15);\n",
              "      filter: drop-shadow(0px 1px 2px rgba(0, 0, 0, 0.3));\n",
              "      fill: #FFFFFF;\n",
              "    }\n",
              "  </style>\n",
              "\n",
              "      <script>\n",
              "        const buttonEl =\n",
              "          document.querySelector('#df-9faed7d9-ce84-40cd-a89f-15d089e8baa4 button.colab-df-convert');\n",
              "        buttonEl.style.display =\n",
              "          google.colab.kernel.accessAllowed ? 'block' : 'none';\n",
              "\n",
              "        async function convertToInteractive(key) {\n",
              "          const element = document.querySelector('#df-9faed7d9-ce84-40cd-a89f-15d089e8baa4');\n",
              "          const dataTable =\n",
              "            await google.colab.kernel.invokeFunction('convertToInteractive',\n",
              "                                                     [key], {});\n",
              "          if (!dataTable) return;\n",
              "\n",
              "          const docLinkHtml = 'Like what you see? Visit the ' +\n",
              "            '<a target=\"_blank\" href=https://colab.research.google.com/notebooks/data_table.ipynb>data table notebook</a>'\n",
              "            + ' to learn more about interactive tables.';\n",
              "          element.innerHTML = '';\n",
              "          dataTable['output_type'] = 'display_data';\n",
              "          await google.colab.output.renderOutput(dataTable, element);\n",
              "          const docLink = document.createElement('div');\n",
              "          docLink.innerHTML = docLinkHtml;\n",
              "          element.appendChild(docLink);\n",
              "        }\n",
              "      </script>\n",
              "    </div>\n",
              "  </div>\n",
              "  "
            ]
          },
          "metadata": {},
          "execution_count": 5
        }
      ]
    },
    {
      "cell_type": "markdown",
      "source": [
        "#3. Exploracion de los datos"
      ],
      "metadata": {
        "id": "8HHM1DSpP1nv"
      }
    },
    {
      "cell_type": "markdown",
      "source": [
        "##3.1 Tipos de datos"
      ],
      "metadata": {
        "id": "G8CXdhMfFuE-"
      }
    },
    {
      "cell_type": "code",
      "source": [
        "data.dtypes"
      ],
      "metadata": {
        "id": "QoqfXRjtFtm0",
        "outputId": "8be437ec-cbdc-4a80-e8fe-eae362c831bf",
        "colab": {
          "base_uri": "https://localhost:8080/"
        }
      },
      "execution_count": 19,
      "outputs": [
        {
          "output_type": "execute_result",
          "data": {
            "text/plain": [
              "equipo                         object\n",
              "jugador                        object\n",
              "date                   datetime64[ns]\n",
              "dayofweek                      object\n",
              "comp                           object\n",
              "round                          object\n",
              "venue                          object\n",
              "result                         object\n",
              "squad                          object\n",
              "opponent                       object\n",
              "game_started                   object\n",
              "position                       object\n",
              "minutes                       float64\n",
              "goals                         float64\n",
              "assists                       float64\n",
              "pens_made                     float64\n",
              "pens_att                      float64\n",
              "shots_total                   float64\n",
              "shots_on_target               float64\n",
              "cards_yellow                  float64\n",
              "cards_red                     float64\n",
              "touches                       float64\n",
              "pressures                     float64\n",
              "tackles                       float64\n",
              "interceptions                 float64\n",
              "blocks                        float64\n",
              "xg                            float64\n",
              "npxg                          float64\n",
              "xa                            float64\n",
              "sca                           float64\n",
              "gca                           float64\n",
              "passes_completed              float64\n",
              "passes                        float64\n",
              "passes_pct                    float64\n",
              "progressive_passes            float64\n",
              "carries                       float64\n",
              "progressive_carries           float64\n",
              "dribbles_completed            float64\n",
              "dribbles                      float64\n",
              "match_report                   object\n",
              "Unnamed: 40                   float64\n",
              "dtype: object"
            ]
          },
          "metadata": {},
          "execution_count": 19
        }
      ]
    },
    {
      "cell_type": "markdown",
      "source": [
        "Vemos que varios tipos de datos estan mal seteados, asi que procedemos a modificarlo."
      ],
      "metadata": {
        "id": "5Dnk8Wq0GMk6"
      }
    },
    {
      "cell_type": "code",
      "source": [
        "change_columns = ['date']\n",
        "for col in change_columns:\n",
        "  data[col] = pd.to_datetime(data[col])"
      ],
      "metadata": {
        "id": "HNFe4m0lGS_0"
      },
      "execution_count": 64,
      "outputs": []
    },
    {
      "cell_type": "markdown",
      "source": [
        "## 3.1 Valores vácios"
      ],
      "metadata": {
        "id": "YOJQgyQwP5EC"
      }
    },
    {
      "cell_type": "code",
      "source": [
        "data.isna().sum()"
      ],
      "metadata": {
        "colab": {
          "base_uri": "https://localhost:8080/"
        },
        "id": "T5hFsxxRP_oO",
        "outputId": "7d5e790f-fba6-4654-937e-af0ec866e7e9"
      },
      "execution_count": 65,
      "outputs": [
        {
          "output_type": "execute_result",
          "data": {
            "text/plain": [
              "equipo                     0\n",
              "jugador                    0\n",
              "date                    1455\n",
              "dayofweek               1455\n",
              "comp                    1455\n",
              "round                   1455\n",
              "venue                   1455\n",
              "result                  1455\n",
              "squad                   1455\n",
              "opponent                1455\n",
              "game_started            1455\n",
              "position                7772\n",
              "minutes                 6821\n",
              "goals                   6799\n",
              "assists                 6833\n",
              "pens_made               6799\n",
              "pens_att                6799\n",
              "shots_total             7140\n",
              "shots_on_target         7140\n",
              "cards_yellow            6799\n",
              "cards_red               6799\n",
              "touches                10045\n",
              "pressures              10045\n",
              "tackles                10045\n",
              "interceptions           7140\n",
              "blocks                 10045\n",
              "xg                     10045\n",
              "npxg                   10045\n",
              "xa                     10045\n",
              "sca                    10045\n",
              "gca                    10045\n",
              "passes_completed       10045\n",
              "passes                 10045\n",
              "passes_pct             10147\n",
              "progressive_passes     10045\n",
              "carries                10045\n",
              "progressive_carries    10045\n",
              "dribbles_completed     10045\n",
              "dribbles               10045\n",
              "match_report            1455\n",
              "Unnamed: 40            20460\n",
              "dtype: int64"
            ]
          },
          "metadata": {},
          "execution_count": 65
        }
      ]
    },
    {
      "cell_type": "markdown",
      "source": [
        "Vemos que se ha producido un error al cargar el CSV y se ha generado una columna extra, 'Unname:40', así que procedemos a eliminarla. También eliminamos la columna 'match_report', que es un dato extraido de más.\n"
      ],
      "metadata": {
        "id": "f4a6AjHgQh1i"
      }
    },
    {
      "cell_type": "code",
      "source": [
        "data = data.drop(['Unnamed: 40', 'match_report'], axis=1)"
      ],
      "metadata": {
        "id": "OawhYDIKQqqr"
      },
      "execution_count": 66,
      "outputs": []
    },
    {
      "cell_type": "markdown",
      "source": [
        "Por otro lado, podemos observar que hay mucho valores vacios en los siguientes campos:\n",
        "\n",
        "\n",
        "*   <b>Date</b>. Estas filas estan compltamente vacías, con lo que procedemos a eliminarlas\n",
        "*   <b>Position</b>. Estos valores corresponden a dos grupos, si el jugador a participado en el encuentro pero en una posicion no soportado en lo datos, mientras que si el jugador no ha disputado ningun minuto, al no haber participado en el encuentro, su posicion está vacía. Para el primer caso, vamos completar el campo con el valor UNK, para indica que es deconocida, mientras que en el segundo caso lo compltaremos con null.\n",
        "*    El resto de valores son de estadisticas que el jugador no ha podido completar por diferentes motivos (poco tiempo de juego, por posicion, ...), estos valores se van a sustituir por 0 para facilitar las estadisticas posteriores.\n",
        "\n"
      ],
      "metadata": {
        "id": "ZobKYFBWMFu1"
      }
    },
    {
      "cell_type": "code",
      "source": [
        "data.loc[(data['position'].isna()) & ~(data['minutes'].isna()), 'position']\n",
        "# borrado de las filas vacias\n",
        "data = data.drop(data.index[data['date'].isna()])\n",
        "data.loc[data['position'].isna() & ~data['minutes'].isna(), 'position'] = 'UNK'\n",
        "data.loc[data['position'].isna(), 'position'] = None\n",
        "data.loc[data['goals'].isna() & ~data['minutes'].isna(), 'goals'] = 0\n",
        "data.loc[data['assists'].isna() & ~data['minutes'].isna(), 'assists'] = 0\n",
        "data.loc[data['pens_made'].isna() & ~data['minutes'].isna(), 'pens_made'] = 0\n",
        "data.loc[data['pens_att'].isna() & ~data['minutes'].isna(), 'pens_att'] = 0\n",
        "data.loc[data['shots_total'].isna() & ~data['minutes'].isna(), 'shots_total'] = 0\n",
        "data.loc[data['shots_on_target'].isna() & ~data['minutes'].isna(), 'shots_on_target'] = 0\n",
        "data.loc[data['cards_yellow'].isna() & ~data['minutes'].isna(), 'cards_yellow'] = 0\n",
        "data.loc[data['cards_red'].isna() & ~data['minutes'].isna(), 'cards_red'] = 0\n",
        "data.loc[data['touches'].isna() & ~data['minutes'].isna(), 'touches'] = 0\n",
        "data.loc[data['pressures'].isna() & ~data['minutes'].isna(), 'pressures'] = 0\n",
        "data.loc[data['tackles'].isna() & ~data['minutes'].isna(), 'tackles'] = 0\n",
        "data.loc[data['interceptions'].isna() & ~data['minutes'].isna(), 'interceptions'] = 0\n",
        "data.loc[data['blocks'].isna() & ~data['minutes'].isna(), 'blocks'] = 0\n",
        "data.loc[data['xg'].isna() & ~data['minutes'].isna(), 'xg'] = 0\n",
        "data.loc[data['npxg'].isna() & ~data['minutes'].isna(), 'npxg'] = 0\n",
        "data.loc[data['xa'].isna() & ~data['minutes'].isna(), 'xa'] = 0\n",
        "data.loc[data['sca'].isna() & ~data['minutes'].isna(), 'sca'] = 0\n",
        "data.loc[data['gca'].isna() & ~data['minutes'].isna(), 'gca'] = 0\n",
        "data.loc[data['passes_completed'].isna() & ~data['minutes'].isna(), 'passes_completed'] = 0\n",
        "data.loc[data['passes'].isna() & ~data['minutes'].isna(), 'passes'] = 0\n",
        "data.loc[data['passes_pct'].isna() & ~data['minutes'].isna(), 'passes_pct'] = 0\n",
        "data.loc[data['progressive_passes'].isna() & ~data['minutes'].isna(), 'progressive_passes'] = 0\n",
        "data.loc[data['carries'].isna() & ~data['minutes'].isna(), 'carries'] = 0\n",
        "data.loc[data['progressive_carries'].isna() & ~data['minutes'].isna(), 'progressive_carries'] = 0\n",
        "data.loc[data['dribbles_completed'].isna() & ~data['minutes'].isna(), 'dribbles_completed'] = 0\n",
        "data.loc[data['dribbles'].isna() & ~data['minutes'].isna(), 'dribbles'] = 0"
      ],
      "metadata": {
        "id": "HTGLNu1tMeZa"
      },
      "execution_count": 67,
      "outputs": []
    },
    {
      "cell_type": "markdown",
      "source": [
        "## 3.2 Valores átipicos\n",
        "En este paso, para todas las variables númericas, vamos a buscar valores átipicos o extremos."
      ],
      "metadata": {
        "id": "vb_Gfb09P_uj"
      }
    },
    {
      "cell_type": "code",
      "source": [
        "# sns.boxplot(data['minutes'])\n",
        "names = ['minutes', 'goals', 'assists', 'pens_made', 'pens_att', 'shots_total', 'shots_on_target', 'cards_yellow', 'cards_red', 'touches', 'pressures', 'tackles', 'interceptions', 'blocks', 'xg', 'npxg', 'xa', 'sca', 'gca', 'passes_completed', 'passes', 'passes_pct', 'progressive_passes', 'carries', 'progressive_carries', 'dribbles_completed', 'dribbles']\n",
        "for i in range(len(names)):\n",
        "  fig, ax = plt.subplots(1, figsize=(6, 6), sharey=True)\n",
        "  sns.boxplot(ax=ax, data=data[names[i]])\n",
        "  ax.set_title(names[i])"
      ],
      "metadata": {
        "id": "t92JEA3DQCts",
        "outputId": "2fcda436-f54f-4c0f-aabb-7c1b6e10a7e5",
        "colab": {
          "base_uri": "https://localhost:8080/",
          "height": 1000
        }
      },
      "execution_count": 95,
      "outputs": [
        {
          "output_type": "stream",
          "name": "stderr",
          "text": [
            "/usr/local/lib/python3.7/dist-packages/ipykernel_launcher.py:4: RuntimeWarning: More than 20 figures have been opened. Figures created through the pyplot interface (`matplotlib.pyplot.figure`) are retained until explicitly closed and may consume too much memory. (To control this warning, see the rcParam `figure.max_open_warning`).\n",
            "  after removing the cwd from sys.path.\n",
            "/usr/local/lib/python3.7/dist-packages/ipykernel_launcher.py:4: RuntimeWarning: More than 20 figures have been opened. Figures created through the pyplot interface (`matplotlib.pyplot.figure`) are retained until explicitly closed and may consume too much memory. (To control this warning, see the rcParam `figure.max_open_warning`).\n",
            "  after removing the cwd from sys.path.\n",
            "/usr/local/lib/python3.7/dist-packages/ipykernel_launcher.py:4: RuntimeWarning: More than 20 figures have been opened. Figures created through the pyplot interface (`matplotlib.pyplot.figure`) are retained until explicitly closed and may consume too much memory. (To control this warning, see the rcParam `figure.max_open_warning`).\n",
            "  after removing the cwd from sys.path.\n",
            "/usr/local/lib/python3.7/dist-packages/ipykernel_launcher.py:4: RuntimeWarning: More than 20 figures have been opened. Figures created through the pyplot interface (`matplotlib.pyplot.figure`) are retained until explicitly closed and may consume too much memory. (To control this warning, see the rcParam `figure.max_open_warning`).\n",
            "  after removing the cwd from sys.path.\n",
            "/usr/local/lib/python3.7/dist-packages/ipykernel_launcher.py:4: RuntimeWarning: More than 20 figures have been opened. Figures created through the pyplot interface (`matplotlib.pyplot.figure`) are retained until explicitly closed and may consume too much memory. (To control this warning, see the rcParam `figure.max_open_warning`).\n",
            "  after removing the cwd from sys.path.\n",
            "/usr/local/lib/python3.7/dist-packages/ipykernel_launcher.py:4: RuntimeWarning: More than 20 figures have been opened. Figures created through the pyplot interface (`matplotlib.pyplot.figure`) are retained until explicitly closed and may consume too much memory. (To control this warning, see the rcParam `figure.max_open_warning`).\n",
            "  after removing the cwd from sys.path.\n",
            "/usr/local/lib/python3.7/dist-packages/ipykernel_launcher.py:4: RuntimeWarning: More than 20 figures have been opened. Figures created through the pyplot interface (`matplotlib.pyplot.figure`) are retained until explicitly closed and may consume too much memory. (To control this warning, see the rcParam `figure.max_open_warning`).\n",
            "  after removing the cwd from sys.path.\n"
          ]
        },
        {
          "output_type": "display_data",
          "data": {
            "text/plain": [
              "<Figure size 432x432 with 1 Axes>"
            ],
            "image/png": "[encoded data removed]"
          },
          "metadata": {
            "needs_background": "light"
          }
        },
        {
          "output_type": "display_data",
          "data": {
            "text/plain": [
              "<Figure size 432x432 with 1 Axes>"
            ],
            "image/png": "[encoded data removed]"
          },
          "metadata": {
            "needs_background": "light"
          }
        },
        {
          "output_type": "display_data",
          "data": {
            "text/plain": [
              "<Figure size 432x432 with 1 Axes>"
            ],
            "image/png": "[encoded data removed]"
          },
          "metadata": {
            "needs_background": "light"
          }
        },
        {
          "output_type": "display_data",
          "data": {
            "text/plain": [
              "<Figure size 432x432 with 1 Axes>"
            ],
            "image/png": "[encoded data removed]"
          },
          "metadata": {
            "needs_background": "light"
          }
        },
        {
          "output_type": "display_data",
          "data": {
            "text/plain": [
              "<Figure size 432x432 with 1 Axes>"
            ],
            "image/png": "[encoded data removed]"
          },
          "metadata": {
            "needs_background": "light"
          }
        },
        {
          "output_type": "display_data",
          "data": {
            "text/plain": [
              "<Figure size 432x432 with 1 Axes>"
            ],
            "image/png": "[encoded data removed]"
          },
          "metadata": {
            "needs_background": "light"
          }
        },
        {
          "output_type": "display_data",
          "data": {
            "text/plain": [
              "<Figure size 432x432 with 1 Axes>"
            ],
            "image/png": "[encoded data removed]"
          },
          "metadata": {
            "needs_background": "light"
          }
        },
        {
          "output_type": "display_data",
          "data": {
            "text/plain": [
              "<Figure size 432x432 with 1 Axes>"
            ],
            "image/png": "[encoded data removed]"
          },
          "metadata": {
            "needs_background": "light"
          }
        },
        {
          "output_type": "display_data",
          "data": {
            "text/plain": [
              "<Figure size 432x432 with 1 Axes>"
            ],
            "image/png": "[encoded data removed]"
          },
          "metadata": {
            "needs_background": "light"
          }
        },
        {
          "output_type": "display_data",
          "data": {
            "text/plain": [
              "<Figure size 432x432 with 1 Axes>"
            ],
            "image/png": "[encoded data removed]"
          },
          "metadata": {
            "needs_background": "light"
          }
        },
        {
          "output_type": "display_data",
          "data": {
            "text/plain": [
              "<Figure size 432x432 with 1 Axes>"
            ],
            "image/png": "[encoded data removed]"
          },
          "metadata": {
            "needs_background": "light"
          }
        },
        {
          "output_type": "display_data",
          "data": {
            "text/plain": [
              "<Figure size 432x432 with 1 Axes>"
            ],
            "image/png": "[encoded data removed]"
          },
          "metadata": {
            "needs_background": "light"
          }
        },
        {
          "output_type": "display_data",
          "data": {
            "text/plain": [
              "<Figure size 432x432 with 1 Axes>"
            ],
            "image/png": "[encoded data removed]"
          },
          "metadata": {
            "needs_background": "light"
          }
        },
        {
          "output_type": "display_data",
          "data": {
            "text/plain": [
              "<Figure size 432x432 with 1 Axes>"
            ],
            "image/png": "[encoded data removed]"
          },
          "metadata": {
            "needs_background": "light"
          }
        },
        {
          "output_type": "display_data",
          "data": {
            "text/plain": [
              "<Figure size 432x432 with 1 Axes>"
            ],
            "image/png": "[encoded data removed]"
          },
          "metadata": {
            "needs_background": "light"
          }
        },
        {
          "output_type": "display_data",
          "data": {
            "text/plain": [
              "<Figure size 432x432 with 1 Axes>"
            ],
            "image/png": "[encoded data removed]"
          },
          "metadata": {
            "needs_background": "light"
          }
        },
        {
          "output_type": "display_data",
          "data": {
            "text/plain": [
              "<Figure size 432x432 with 1 Axes>"
            ],
            "image/png": "[encoded data removed]"
          },
          "metadata": {
            "needs_background": "light"
          }
        },
        {
          "output_type": "display_data",
          "data": {
            "text/plain": [
              "<Figure size 432x432 with 1 Axes>"
            ],
            "image/png": "[encoded data removed]"
          },
          "metadata": {
            "needs_background": "light"
          }
        },
        {
          "output_type": "display_data",
          "data": {
            "text/plain": [
              "<Figure size 432x432 with 1 Axes>"
            ],
            "image/png": "[encoded data removed]"
          },
          "metadata": {
            "needs_background": "light"
          }
        },
        {
          "output_type": "display_data",
          "data": {
            "text/plain": [
              "<Figure size 432x432 with 1 Axes>"
            ],
            "image/png": "[encoded data removed]"
          },
          "metadata": {
            "needs_background": "light"
          }
        },
        {
          "output_type": "display_data",
          "data": {
            "text/plain": [
              "<Figure size 432x432 with 1 Axes>"
            ],
            "image/png": "[encoded data removed]"
          },
          "metadata": {
            "needs_background": "light"
          }
        },
        {
          "output_type": "display_data",
          "data": {
            "text/plain": [
              "<Figure size 432x432 with 1 Axes>"
            ],
            "image/png": "[encoded data removed]"
          },
          "metadata": {
            "needs_background": "light"
          }
        },
        {
          "output_type": "display_data",
          "data": {
            "text/plain": [
              "<Figure size 432x432 with 1 Axes>"
            ],
            "image/png": "[encoded data removed]"
          },
          "metadata": {
            "needs_background": "light"
          }
        },
        {
          "output_type": "display_data",
          "data": {
            "text/plain": [
              "<Figure size 432x432 with 1 Axes>"
            ],
            "image/png": "[encoded data removed]"
          },
          "metadata": {
            "needs_background": "light"
          }
        },
        {
          "output_type": "display_data",
          "data": {
            "text/plain": [
              "<Figure size 432x432 with 1 Axes>"
            ],
            "image/png": "[encoded data removed]"
          },
          "metadata": {
            "needs_background": "light"
          }
        },
        {
          "output_type": "display_data",
          "data": {
            "text/plain": [
              "<Figure size 432x432 with 1 Axes>"
            ],
            "image/png": "[encoded data removed]"
          },
          "metadata": {
            "needs_background": "light"
          }
        },
        {
          "output_type": "display_data",
          "data": {
            "text/plain": [
              "<Figure size 432x432 with 1 Axes>"
            ],
            "image/png": "[encoded data removed]"
          },
          "metadata": {
            "needs_background": "light"
          }
        }
      ]
    },
    {
      "cell_type": "markdown",
      "source": [
        "En muchos campos vemos varios valores atípicos, pero analizando los datos, son valores que entran dentro de los posible, por eso se decide mantener dichos datos."
      ],
      "metadata": {
        "id": "2XsESzdsf3h9"
      }
    }
  ]
}